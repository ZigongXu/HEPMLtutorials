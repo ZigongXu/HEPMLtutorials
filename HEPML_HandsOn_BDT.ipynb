{
 "cells": [
  {
   "cell_type": "markdown",
   "metadata": {
    "colab_type": "text",
    "id": "ZT7AoY8sKwp1"
   },
   "source": [
    "# Hands on : introduction to BDT on HEP dataset"
   ]
  },
  {
   "cell_type": "markdown",
   "metadata": {
    "colab_type": "text",
    "id": "eT7-MMpfrlHR"
   },
   "source": [
    "## Standard Imports"
   ]
  },
  {
   "cell_type": "code",
   "execution_count": 1,
   "metadata": {
    "colab": {},
    "colab_type": "code",
    "id": "QdmaHjz-xCm-"
   },
   "outputs": [],
   "source": [
    "COLAB=True #if running on https://colab.research.google.com/notebooks/welcome.ipynb\n",
    "#COLAB=False #if running on local anaconda installation https://docs.anaconda.com/anaconda/install/"
   ]
  },
  {
   "cell_type": "code",
   "execution_count": 2,
   "metadata": {
    "colab": {},
    "colab_type": "code",
    "id": "xy-_72FJKwp6"
   },
   "outputs": [],
   "source": [
    "import os\n",
    "import numpy as np\n",
    "import pandas as pd\n",
    "import matplotlib.pyplot as plt\n",
    "#from IPython import display USEFUL ???\n",
    "from IPython.display import display, HTML\n",
    "%matplotlib inline\n",
    "import time\n",
    "pd.set_option('display.max_columns', 100) # to see more columns of df.head()\n",
    "np.random.seed(31415) # set the np random seed for the reproducibility\n",
    "#from IPython.core.interactiveshell import InteractiveShell\n",
    "#InteractiveShell.ast_node_interactivity = \"all\" # instead of \"last_expr\", allow all cell output to appear \n"
   ]
  },
  {
   "cell_type": "code",
   "execution_count": 3,
   "metadata": {
    "colab": {
     "base_uri": "https://localhost:8080/",
     "height": 259
    },
    "colab_type": "code",
    "executionInfo": {
     "elapsed": 3785,
     "status": "ok",
     "timestamp": 1590131858341,
     "user": {
      "displayName": "David Rousseau",
      "photoUrl": "",
      "userId": "13371246477126231971"
     },
     "user_tz": -120
    },
    "id": "oF367-yfKwp9",
    "outputId": "c8c445f2-06fa-437f-da6f-e446f779c761"
   },
   "outputs": [
    {
     "name": "stdout",
     "output_type": "stream",
     "text": [
      "running .zshenv\n",
      "Requirement already satisfied: xgboost in /opt/anaconda3/lib/python3.8/site-packages (1.3.3)\n",
      "Requirement already satisfied: numpy in /opt/anaconda3/lib/python3.8/site-packages (from xgboost) (1.19.2)\n",
      "Requirement already satisfied: scipy in /opt/anaconda3/lib/python3.8/site-packages (from xgboost) (1.5.2)\n",
      "running .zshenv\n",
      "Requirement already satisfied: lightgbm in /opt/anaconda3/lib/python3.8/site-packages (3.1.1)\n",
      "Requirement already satisfied: wheel in /opt/anaconda3/lib/python3.8/site-packages (from lightgbm) (0.35.1)\n",
      "Requirement already satisfied: scipy in /opt/anaconda3/lib/python3.8/site-packages (from lightgbm) (1.5.2)\n",
      "Requirement already satisfied: numpy in /opt/anaconda3/lib/python3.8/site-packages (from lightgbm) (1.19.2)\n",
      "Requirement already satisfied: scikit-learn!=0.22.0 in /opt/anaconda3/lib/python3.8/site-packages (from lightgbm) (0.23.2)\n",
      "Requirement already satisfied: threadpoolctl>=2.0.0 in /opt/anaconda3/lib/python3.8/site-packages (from scikit-learn!=0.22.0->lightgbm) (2.1.0)\n",
      "Requirement already satisfied: joblib>=0.11 in /opt/anaconda3/lib/python3.8/site-packages (from scikit-learn!=0.22.0->lightgbm) (0.17.0)\n",
      "1.3.3\n",
      "3.1.1\n"
     ]
    }
   ],
   "source": [
    "# Fix environment if necessary\n",
    "if COLAB:\n",
    "    !pip install xgboost --upgrade #  Colab has 0.9.0, not good enough\n",
    "    pass\n",
    "else:    \n",
    "    # install xgboost and lighgbm, two popular Boosted Decision Tree packages\n",
    "    # normally it is just a matter of a few pip install but there might be some glitches\n",
    "    # note : I have better experience with pip install than conda install. \n",
    "    # the following need to be done only once. To be commented out later\n",
    "    !pip install xgboost    \n",
    "    !pip install lightgbm \n",
    "    pass\n",
    "\n",
    "import xgboost\n",
    "print (xgboost.__version__) # Tested with 1.0.2, version above 1 is recommended.  \n",
    "import lightgbm\n",
    "print (lightgbm.__version__) # Tested with 2.3.1\n",
    "\n"
   ]
  },
  {
   "cell_type": "code",
   "execution_count": 4,
   "metadata": {
    "colab": {
     "base_uri": "https://localhost:8080/",
     "height": 279
    },
    "colab_type": "code",
    "executionInfo": {
     "elapsed": 6824,
     "status": "ok",
     "timestamp": 1590131861387,
     "user": {
      "displayName": "David Rousseau",
      "photoUrl": "",
      "userId": "13371246477126231971"
     },
     "user_tz": -120
    },
    "id": "IsChk6u-r7fk",
    "outputId": "7a328e52-52d5-4e0b-f410-9f833be6ca50",
    "scrolled": true
   },
   "outputs": [],
   "source": [
    "if COLAB:\n",
    "    #### Reading files from Google Drive\n",
    "    # one need a google account to be identified\n",
    "    # select a google account, then cut and paste the long password in the pop up field\n",
    "    !pip install PyDrive\n",
    "    import os\n",
    "    from pydrive.auth import GoogleAuth\n",
    "    from pydrive.drive import GoogleDrive\n",
    "    from google.colab import auth\n",
    "    from oauth2client.client import GoogleCredentials\n",
    "    auth.authenticate_user()\n",
    "    gauth = GoogleAuth()\n",
    "    gauth.credentials = GoogleCredentials.get_application_default()\n",
    "    drive = GoogleDrive(gauth)"
   ]
  },
  {
   "cell_type": "markdown",
   "metadata": {
    "colab_type": "text",
    "id": "g14yIjbPKwqC"
   },
   "source": [
    "# Load events"
   ]
  },
  {
   "cell_type": "code",
   "execution_count": 5,
   "metadata": {
    "colab": {
     "base_uri": "https://localhost:8080/",
     "height": 104
    },
    "colab_type": "code",
    "executionInfo": {
     "elapsed": 14965,
     "status": "ok",
     "timestamp": 1590131869535,
     "user": {
      "displayName": "David Rousseau",
      "photoUrl": "",
      "userId": "13371246477126231971"
     },
     "user_tz": -120
    },
    "id": "kl-4W4Ifs8EV",
    "outputId": "0377c86f-4593-415d-ed9e-7eb8f8368e3d"
   },
   "outputs": [
    {
     "name": "stdout",
     "output_type": "stream",
     "text": [
      "running .zshenv\n",
      "total 2888\n",
      "-rw-r--r--@ 1 rousseau  staff   40958 12 jan 11:22 Copy_of_Welcome_To_Colaboratory.ipynb\n",
      "-rw-r--r--+ 1 rousseau  staff    3881 13 jan 15:27 requirements.txt\n",
      "-rw-r--r--@ 1 rousseau  staff   63621 20 jan 10:54 SOS2021_practice_Basic_statistics_from_github.ipynb\n",
      "-rw-r--r--@ 1 rousseau  staff  103055 23 jan 20:08 HEPML_HandsOn_NN_veryold_immersion.ipynb\n",
      "-rw-------@ 1 rousseau  staff   18810 24 jan 12:37 HEPML_HandsOn_install_check.ipynb\n",
      "-rw-r--r--+ 1 rousseau  staff    6475 24 jan 20:40 html_original.html\n",
      "-rw-r--r--@ 1 rousseau  staff  188022 24 jan 21:46 Notebook_separation_maury_permutation_importance.ipynb\n",
      "-rw-r--r--+ 1 rousseau  staff  143607 24 jan 23:24 XGBoost.model\n",
      "-rw-r--r--+ 1 rousseau  staff  361110 24 jan 23:24 LightGBM.model\n",
      "-rw-r--r--+ 1 rousseau  staff   16228 24 jan 23:24 Score_BDT_XGBoost_Hist.pdf\n",
      "-rw-r--r--+ 1 rousseau  staff   17086 24 jan 23:24 Score_BDT_LightGBM.pdf\n",
      "-rw-r--r--+ 1 rousseau  staff   48661 24 jan 23:24 ROC_comparing.pdf\n",
      "-rw-r--r--+ 1 rousseau  staff   15438 24 jan 23:24 Significance_comparing.pdf\n",
      "-rw-------@ 1 rousseau  staff  351970 24 jan 23:24 HEPML_HandsOn_BDT.ipynb\n",
      "running .zshenv\n",
      "total 70344\n",
      "-rwxr-xr-x+ 1 rousseau  staff  35905611 13 mai  2020 \u001b[31mdataWW_d1_600k.csv.gz\u001b[m\u001b[m\n",
      "Will take data from :  /Users/rousseau/Google Drive/GD_openData/dataWW_ATLAS_openData13TeV_filtered\n",
      "now : 2021-01-24 23:25:05.047115\n",
      "File loaded with  600000  events \n"
     ]
    }
   ],
   "source": [
    "if COLAB:\n",
    "\n",
    "    #attach dataset from google drive \n",
    "    download = drive.CreateFile({'id': '1nlXp7P-xq_jip4aPE0j0mnPhYnIOcBv4'})\n",
    "    download.GetContentFile(\"dataWW_d1_600k.csv.gz\")\n",
    "\n",
    "\n",
    "    datapath=\"\"\n",
    "\n",
    "\n",
    "    !ls -lrt\n",
    "else :\n",
    "    # make sure the file is available locally. \n",
    "    #Should be downloaded from https://drive.google.com/open?id=1nlXp7P-xq_jip4aPE0j0mnPhYnIOcBv4\n",
    "    !ls -lrt # what is in the local directory\n",
    "    datapath=\"/Users/rousseau/Google\\ Drive/GD_openData/dataWW_ATLAS_openData13TeV_filtered/\"\n",
    "\n",
    "    !ls -lrt {datapath} # what is in the data directory\n",
    "    datapath=os.path.abspath(datapath).replace(\"\\ \", \" \")  # try to normalise the path (annoyance with the space)\n",
    "    print (\"Will take data from : \",datapath)\n",
    "\n",
    "filename=os.path.join(datapath,\"dataWW_d1_600k.csv.gz\")\n",
    "#load data\n",
    "# data was created from ATLAS Open Data see doc\n",
    "# http://opendata.atlas.cern/release/2020/documentation/datasets/intro.html\n",
    "dfall = pd.read_csv(filename) \n",
    "\n",
    "#shuffle the events, already done but just to be safe\n",
    "dfall = dfall.sample(frac=1).reset_index(drop=True)\n",
    "from datetime import datetime\n",
    "print (\"now :\",datetime.now())\n",
    "print (\"File loaded with \",dfall.shape[0], \" events \")\n",
    "\n"
   ]
  },
  {
   "cell_type": "markdown",
   "metadata": {
    "colab_type": "text",
    "id": "Uf9Gt8g8KwqF"
   },
   "source": [
    "At this point, it should tell you \"File Loaded with XXX events\". If not, it could not access the datafile, no point going further !"
   ]
  },
  {
   "cell_type": "markdown",
   "metadata": {
    "colab_type": "text",
    "id": "67cCYsYIKwqG"
   },
   "source": [
    "# Examine dataset"
   ]
  },
  {
   "cell_type": "code",
   "execution_count": 6,
   "metadata": {
    "colab": {
     "base_uri": "https://localhost:8080/",
     "height": 138
    },
    "colab_type": "code",
    "executionInfo": {
     "elapsed": 14960,
     "status": "ok",
     "timestamp": 1590131869536,
     "user": {
      "displayName": "David Rousseau",
      "photoUrl": "",
      "userId": "13371246477126231971"
     },
     "user_tz": -120
    },
    "id": "sx1_PB22KwqG",
    "outputId": "775c6de0-7462-4524-b1fe-070bf41e12bc"
   },
   "outputs": [
    {
     "data": {
      "text/plain": [
       "Index(['eventNumber', 'label', 'met_et', 'met_phi', 'lep_n', 'lep_pt_0',\n",
       "       'lep_pt_1', 'lep_eta_0', 'lep_eta_1', 'lep_phi_0', 'lep_phi_1',\n",
       "       'lep_E_0', 'lep_E_1', 'lep_charge_0', 'lep_charge_1', 'lep_type_0',\n",
       "       'lep_type_1', 'jet_n', 'jet_pt_0', 'jet_pt_1', 'jet_eta_0', 'jet_eta_1',\n",
       "       'jet_phi_0', 'jet_phi_1', 'jet_E_0', 'jet_E_1', 'mcWeight', 'runNumber',\n",
       "       'channelNumber'],\n",
       "      dtype='object')"
      ]
     },
     "execution_count": 6,
     "metadata": {},
     "output_type": "execute_result"
    }
   ],
   "source": [
    "#dump list of feature\n",
    "dfall.columns"
   ]
  },
  {
   "cell_type": "code",
   "execution_count": 7,
   "metadata": {
    "colab": {
     "base_uri": "https://localhost:8080/",
     "height": 218
    },
    "colab_type": "code",
    "executionInfo": {
     "elapsed": 14954,
     "status": "ok",
     "timestamp": 1590131869537,
     "user": {
      "displayName": "David Rousseau",
      "photoUrl": "",
      "userId": "13371246477126231971"
     },
     "user_tz": -120
    },
    "id": "j9l7wkkorlHe",
    "outputId": "8ddd33ec-4467-426c-fc2b-7685e25aa8bf"
   },
   "outputs": [
    {
     "data": {
      "text/html": [
       "<div>\n",
       "<style scoped>\n",
       "    .dataframe tbody tr th:only-of-type {\n",
       "        vertical-align: middle;\n",
       "    }\n",
       "\n",
       "    .dataframe tbody tr th {\n",
       "        vertical-align: top;\n",
       "    }\n",
       "\n",
       "    .dataframe thead th {\n",
       "        text-align: right;\n",
       "    }\n",
       "</style>\n",
       "<table border=\"1\" class=\"dataframe\">\n",
       "  <thead>\n",
       "    <tr style=\"text-align: right;\">\n",
       "      <th></th>\n",
       "      <th>eventNumber</th>\n",
       "      <th>label</th>\n",
       "      <th>met_et</th>\n",
       "      <th>met_phi</th>\n",
       "      <th>lep_n</th>\n",
       "      <th>lep_pt_0</th>\n",
       "      <th>lep_pt_1</th>\n",
       "      <th>lep_eta_0</th>\n",
       "      <th>lep_eta_1</th>\n",
       "      <th>lep_phi_0</th>\n",
       "      <th>lep_phi_1</th>\n",
       "      <th>lep_E_0</th>\n",
       "      <th>lep_E_1</th>\n",
       "      <th>lep_charge_0</th>\n",
       "      <th>lep_charge_1</th>\n",
       "      <th>lep_type_0</th>\n",
       "      <th>lep_type_1</th>\n",
       "      <th>jet_n</th>\n",
       "      <th>jet_pt_0</th>\n",
       "      <th>jet_pt_1</th>\n",
       "      <th>jet_eta_0</th>\n",
       "      <th>jet_eta_1</th>\n",
       "      <th>jet_phi_0</th>\n",
       "      <th>jet_phi_1</th>\n",
       "      <th>jet_E_0</th>\n",
       "      <th>jet_E_1</th>\n",
       "      <th>mcWeight</th>\n",
       "      <th>runNumber</th>\n",
       "      <th>channelNumber</th>\n",
       "    </tr>\n",
       "  </thead>\n",
       "  <tbody>\n",
       "    <tr>\n",
       "      <th>0</th>\n",
       "      <td>402756</td>\n",
       "      <td>1</td>\n",
       "      <td>25.609</td>\n",
       "      <td>0.42452</td>\n",
       "      <td>2</td>\n",
       "      <td>48.295</td>\n",
       "      <td>15.214</td>\n",
       "      <td>0.73991</td>\n",
       "      <td>2.27420</td>\n",
       "      <td>-2.316400</td>\n",
       "      <td>-1.39410</td>\n",
       "      <td>62129.0</td>\n",
       "      <td>74721.0</td>\n",
       "      <td>-1</td>\n",
       "      <td>1</td>\n",
       "      <td>13</td>\n",
       "      <td>11</td>\n",
       "      <td>2</td>\n",
       "      <td>26.32</td>\n",
       "      <td>20.064</td>\n",
       "      <td>-1.1350</td>\n",
       "      <td>-2.07540</td>\n",
       "      <td>-2.8092</td>\n",
       "      <td>2.0740</td>\n",
       "      <td>45397.0</td>\n",
       "      <td>81304.0</td>\n",
       "      <td>0.000002</td>\n",
       "      <td>284500</td>\n",
       "      <td>345323</td>\n",
       "    </tr>\n",
       "    <tr>\n",
       "      <th>1</th>\n",
       "      <td>101274</td>\n",
       "      <td>0</td>\n",
       "      <td>196.560</td>\n",
       "      <td>1.31140</td>\n",
       "      <td>2</td>\n",
       "      <td>69.459</td>\n",
       "      <td>21.081</td>\n",
       "      <td>-0.52666</td>\n",
       "      <td>0.22380</td>\n",
       "      <td>0.023132</td>\n",
       "      <td>-0.67855</td>\n",
       "      <td>79317.0</td>\n",
       "      <td>21611.0</td>\n",
       "      <td>-1</td>\n",
       "      <td>1</td>\n",
       "      <td>13</td>\n",
       "      <td>13</td>\n",
       "      <td>2</td>\n",
       "      <td>192.12</td>\n",
       "      <td>36.217</td>\n",
       "      <td>-1.2643</td>\n",
       "      <td>-0.69746</td>\n",
       "      <td>-2.2147</td>\n",
       "      <td>-1.9152</td>\n",
       "      <td>367670.0</td>\n",
       "      <td>45733.0</td>\n",
       "      <td>0.000288</td>\n",
       "      <td>284500</td>\n",
       "      <td>363492</td>\n",
       "    </tr>\n",
       "    <tr>\n",
       "      <th>2</th>\n",
       "      <td>468437</td>\n",
       "      <td>1</td>\n",
       "      <td>45.653</td>\n",
       "      <td>-2.76860</td>\n",
       "      <td>2</td>\n",
       "      <td>45.927</td>\n",
       "      <td>22.822</td>\n",
       "      <td>-1.61910</td>\n",
       "      <td>-2.00770</td>\n",
       "      <td>1.901700</td>\n",
       "      <td>-0.11248</td>\n",
       "      <td>120480.0</td>\n",
       "      <td>86498.0</td>\n",
       "      <td>-1</td>\n",
       "      <td>1</td>\n",
       "      <td>11</td>\n",
       "      <td>11</td>\n",
       "      <td>0</td>\n",
       "      <td>-7.00</td>\n",
       "      <td>-7.000</td>\n",
       "      <td>-7.0000</td>\n",
       "      <td>-7.00000</td>\n",
       "      <td>-7.0000</td>\n",
       "      <td>-7.0000</td>\n",
       "      <td>-7.0</td>\n",
       "      <td>-7.0</td>\n",
       "      <td>0.000029</td>\n",
       "      <td>284500</td>\n",
       "      <td>345324</td>\n",
       "    </tr>\n",
       "    <tr>\n",
       "      <th>3</th>\n",
       "      <td>272337</td>\n",
       "      <td>1</td>\n",
       "      <td>49.415</td>\n",
       "      <td>-0.57805</td>\n",
       "      <td>2</td>\n",
       "      <td>45.929</td>\n",
       "      <td>14.263</td>\n",
       "      <td>1.55280</td>\n",
       "      <td>0.12809</td>\n",
       "      <td>2.254700</td>\n",
       "      <td>-2.54810</td>\n",
       "      <td>113360.0</td>\n",
       "      <td>14380.0</td>\n",
       "      <td>-1</td>\n",
       "      <td>1</td>\n",
       "      <td>13</td>\n",
       "      <td>13</td>\n",
       "      <td>0</td>\n",
       "      <td>-7.00</td>\n",
       "      <td>-7.000</td>\n",
       "      <td>-7.0000</td>\n",
       "      <td>-7.00000</td>\n",
       "      <td>-7.0000</td>\n",
       "      <td>-7.0000</td>\n",
       "      <td>-7.0</td>\n",
       "      <td>-7.0</td>\n",
       "      <td>0.000029</td>\n",
       "      <td>284500</td>\n",
       "      <td>345324</td>\n",
       "    </tr>\n",
       "    <tr>\n",
       "      <th>4</th>\n",
       "      <td>354546</td>\n",
       "      <td>1</td>\n",
       "      <td>71.988</td>\n",
       "      <td>-2.60390</td>\n",
       "      <td>2</td>\n",
       "      <td>62.029</td>\n",
       "      <td>21.453</td>\n",
       "      <td>-0.51082</td>\n",
       "      <td>-0.38177</td>\n",
       "      <td>0.236200</td>\n",
       "      <td>1.40820</td>\n",
       "      <td>70300.0</td>\n",
       "      <td>23036.0</td>\n",
       "      <td>-1</td>\n",
       "      <td>1</td>\n",
       "      <td>11</td>\n",
       "      <td>13</td>\n",
       "      <td>0</td>\n",
       "      <td>-7.00</td>\n",
       "      <td>-7.000</td>\n",
       "      <td>-7.0000</td>\n",
       "      <td>-7.00000</td>\n",
       "      <td>-7.0000</td>\n",
       "      <td>-7.0000</td>\n",
       "      <td>-7.0</td>\n",
       "      <td>-7.0</td>\n",
       "      <td>0.000002</td>\n",
       "      <td>284500</td>\n",
       "      <td>345323</td>\n",
       "    </tr>\n",
       "  </tbody>\n",
       "</table>\n",
       "</div>"
      ],
      "text/plain": [
       "   eventNumber  label   met_et  met_phi  lep_n  lep_pt_0  lep_pt_1  lep_eta_0  \\\n",
       "0       402756      1   25.609  0.42452      2    48.295    15.214    0.73991   \n",
       "1       101274      0  196.560  1.31140      2    69.459    21.081   -0.52666   \n",
       "2       468437      1   45.653 -2.76860      2    45.927    22.822   -1.61910   \n",
       "3       272337      1   49.415 -0.57805      2    45.929    14.263    1.55280   \n",
       "4       354546      1   71.988 -2.60390      2    62.029    21.453   -0.51082   \n",
       "\n",
       "   lep_eta_1  lep_phi_0  lep_phi_1   lep_E_0  lep_E_1  lep_charge_0  \\\n",
       "0    2.27420  -2.316400   -1.39410   62129.0  74721.0            -1   \n",
       "1    0.22380   0.023132   -0.67855   79317.0  21611.0            -1   \n",
       "2   -2.00770   1.901700   -0.11248  120480.0  86498.0            -1   \n",
       "3    0.12809   2.254700   -2.54810  113360.0  14380.0            -1   \n",
       "4   -0.38177   0.236200    1.40820   70300.0  23036.0            -1   \n",
       "\n",
       "   lep_charge_1  lep_type_0  lep_type_1  jet_n  jet_pt_0  jet_pt_1  jet_eta_0  \\\n",
       "0             1          13          11      2     26.32    20.064    -1.1350   \n",
       "1             1          13          13      2    192.12    36.217    -1.2643   \n",
       "2             1          11          11      0     -7.00    -7.000    -7.0000   \n",
       "3             1          13          13      0     -7.00    -7.000    -7.0000   \n",
       "4             1          11          13      0     -7.00    -7.000    -7.0000   \n",
       "\n",
       "   jet_eta_1  jet_phi_0  jet_phi_1   jet_E_0  jet_E_1  mcWeight  runNumber  \\\n",
       "0   -2.07540    -2.8092     2.0740   45397.0  81304.0  0.000002     284500   \n",
       "1   -0.69746    -2.2147    -1.9152  367670.0  45733.0  0.000288     284500   \n",
       "2   -7.00000    -7.0000    -7.0000      -7.0     -7.0  0.000029     284500   \n",
       "3   -7.00000    -7.0000    -7.0000      -7.0     -7.0  0.000029     284500   \n",
       "4   -7.00000    -7.0000    -7.0000      -7.0     -7.0  0.000002     284500   \n",
       "\n",
       "   channelNumber  \n",
       "0         345323  \n",
       "1         363492  \n",
       "2         345324  \n",
       "3         345324  \n",
       "4         345323  "
      ]
     },
     "metadata": {},
     "output_type": "display_data"
    },
    {
     "data": {
      "text/html": [
       "<div>\n",
       "<style scoped>\n",
       "    .dataframe tbody tr th:only-of-type {\n",
       "        vertical-align: middle;\n",
       "    }\n",
       "\n",
       "    .dataframe tbody tr th {\n",
       "        vertical-align: top;\n",
       "    }\n",
       "\n",
       "    .dataframe thead th {\n",
       "        text-align: right;\n",
       "    }\n",
       "</style>\n",
       "<table border=\"1\" class=\"dataframe\">\n",
       "  <thead>\n",
       "    <tr style=\"text-align: right;\">\n",
       "      <th></th>\n",
       "      <th>eventNumber</th>\n",
       "      <th>label</th>\n",
       "      <th>met_et</th>\n",
       "      <th>met_phi</th>\n",
       "      <th>lep_n</th>\n",
       "      <th>lep_pt_0</th>\n",
       "      <th>lep_pt_1</th>\n",
       "      <th>lep_eta_0</th>\n",
       "      <th>lep_eta_1</th>\n",
       "      <th>lep_phi_0</th>\n",
       "      <th>lep_phi_1</th>\n",
       "      <th>lep_E_0</th>\n",
       "      <th>lep_E_1</th>\n",
       "      <th>lep_charge_0</th>\n",
       "      <th>lep_charge_1</th>\n",
       "      <th>lep_type_0</th>\n",
       "      <th>lep_type_1</th>\n",
       "      <th>jet_n</th>\n",
       "      <th>jet_pt_0</th>\n",
       "      <th>jet_pt_1</th>\n",
       "      <th>jet_eta_0</th>\n",
       "      <th>jet_eta_1</th>\n",
       "      <th>jet_phi_0</th>\n",
       "      <th>jet_phi_1</th>\n",
       "      <th>jet_E_0</th>\n",
       "      <th>jet_E_1</th>\n",
       "      <th>mcWeight</th>\n",
       "      <th>runNumber</th>\n",
       "      <th>channelNumber</th>\n",
       "    </tr>\n",
       "  </thead>\n",
       "  <tbody>\n",
       "    <tr>\n",
       "      <th>0</th>\n",
       "      <td>402756</td>\n",
       "      <td>1</td>\n",
       "      <td>25.609</td>\n",
       "      <td>0.42452</td>\n",
       "      <td>2</td>\n",
       "      <td>48.295</td>\n",
       "      <td>15.214</td>\n",
       "      <td>0.73991</td>\n",
       "      <td>2.27420</td>\n",
       "      <td>-2.316400</td>\n",
       "      <td>-1.39410</td>\n",
       "      <td>62129.0</td>\n",
       "      <td>74721.0</td>\n",
       "      <td>-1</td>\n",
       "      <td>1</td>\n",
       "      <td>13</td>\n",
       "      <td>11</td>\n",
       "      <td>2</td>\n",
       "      <td>26.32</td>\n",
       "      <td>20.064</td>\n",
       "      <td>-1.1350</td>\n",
       "      <td>-2.07540</td>\n",
       "      <td>-2.8092</td>\n",
       "      <td>2.0740</td>\n",
       "      <td>45397.0</td>\n",
       "      <td>81304.0</td>\n",
       "      <td>0.000002</td>\n",
       "      <td>284500</td>\n",
       "      <td>345323</td>\n",
       "    </tr>\n",
       "    <tr>\n",
       "      <th>1</th>\n",
       "      <td>101274</td>\n",
       "      <td>0</td>\n",
       "      <td>196.560</td>\n",
       "      <td>1.31140</td>\n",
       "      <td>2</td>\n",
       "      <td>69.459</td>\n",
       "      <td>21.081</td>\n",
       "      <td>-0.52666</td>\n",
       "      <td>0.22380</td>\n",
       "      <td>0.023132</td>\n",
       "      <td>-0.67855</td>\n",
       "      <td>79317.0</td>\n",
       "      <td>21611.0</td>\n",
       "      <td>-1</td>\n",
       "      <td>1</td>\n",
       "      <td>13</td>\n",
       "      <td>13</td>\n",
       "      <td>2</td>\n",
       "      <td>192.12</td>\n",
       "      <td>36.217</td>\n",
       "      <td>-1.2643</td>\n",
       "      <td>-0.69746</td>\n",
       "      <td>-2.2147</td>\n",
       "      <td>-1.9152</td>\n",
       "      <td>367670.0</td>\n",
       "      <td>45733.0</td>\n",
       "      <td>0.000288</td>\n",
       "      <td>284500</td>\n",
       "      <td>363492</td>\n",
       "    </tr>\n",
       "    <tr>\n",
       "      <th>2</th>\n",
       "      <td>468437</td>\n",
       "      <td>1</td>\n",
       "      <td>45.653</td>\n",
       "      <td>-2.76860</td>\n",
       "      <td>2</td>\n",
       "      <td>45.927</td>\n",
       "      <td>22.822</td>\n",
       "      <td>-1.61910</td>\n",
       "      <td>-2.00770</td>\n",
       "      <td>1.901700</td>\n",
       "      <td>-0.11248</td>\n",
       "      <td>120480.0</td>\n",
       "      <td>86498.0</td>\n",
       "      <td>-1</td>\n",
       "      <td>1</td>\n",
       "      <td>11</td>\n",
       "      <td>11</td>\n",
       "      <td>0</td>\n",
       "      <td>-7.00</td>\n",
       "      <td>-7.000</td>\n",
       "      <td>-7.0000</td>\n",
       "      <td>-7.00000</td>\n",
       "      <td>-7.0000</td>\n",
       "      <td>-7.0000</td>\n",
       "      <td>-7.0</td>\n",
       "      <td>-7.0</td>\n",
       "      <td>0.000029</td>\n",
       "      <td>284500</td>\n",
       "      <td>345324</td>\n",
       "    </tr>\n",
       "    <tr>\n",
       "      <th>3</th>\n",
       "      <td>272337</td>\n",
       "      <td>1</td>\n",
       "      <td>49.415</td>\n",
       "      <td>-0.57805</td>\n",
       "      <td>2</td>\n",
       "      <td>45.929</td>\n",
       "      <td>14.263</td>\n",
       "      <td>1.55280</td>\n",
       "      <td>0.12809</td>\n",
       "      <td>2.254700</td>\n",
       "      <td>-2.54810</td>\n",
       "      <td>113360.0</td>\n",
       "      <td>14380.0</td>\n",
       "      <td>-1</td>\n",
       "      <td>1</td>\n",
       "      <td>13</td>\n",
       "      <td>13</td>\n",
       "      <td>0</td>\n",
       "      <td>-7.00</td>\n",
       "      <td>-7.000</td>\n",
       "      <td>-7.0000</td>\n",
       "      <td>-7.00000</td>\n",
       "      <td>-7.0000</td>\n",
       "      <td>-7.0000</td>\n",
       "      <td>-7.0</td>\n",
       "      <td>-7.0</td>\n",
       "      <td>0.000029</td>\n",
       "      <td>284500</td>\n",
       "      <td>345324</td>\n",
       "    </tr>\n",
       "    <tr>\n",
       "      <th>4</th>\n",
       "      <td>354546</td>\n",
       "      <td>1</td>\n",
       "      <td>71.988</td>\n",
       "      <td>-2.60390</td>\n",
       "      <td>2</td>\n",
       "      <td>62.029</td>\n",
       "      <td>21.453</td>\n",
       "      <td>-0.51082</td>\n",
       "      <td>-0.38177</td>\n",
       "      <td>0.236200</td>\n",
       "      <td>1.40820</td>\n",
       "      <td>70300.0</td>\n",
       "      <td>23036.0</td>\n",
       "      <td>-1</td>\n",
       "      <td>1</td>\n",
       "      <td>11</td>\n",
       "      <td>13</td>\n",
       "      <td>0</td>\n",
       "      <td>-7.00</td>\n",
       "      <td>-7.000</td>\n",
       "      <td>-7.0000</td>\n",
       "      <td>-7.00000</td>\n",
       "      <td>-7.0000</td>\n",
       "      <td>-7.0000</td>\n",
       "      <td>-7.0</td>\n",
       "      <td>-7.0</td>\n",
       "      <td>0.000002</td>\n",
       "      <td>284500</td>\n",
       "      <td>345323</td>\n",
       "    </tr>\n",
       "  </tbody>\n",
       "</table>\n",
       "</div>"
      ],
      "text/plain": [
       "   eventNumber  label   met_et  met_phi  lep_n  lep_pt_0  lep_pt_1  lep_eta_0  \\\n",
       "0       402756      1   25.609  0.42452      2    48.295    15.214    0.73991   \n",
       "1       101274      0  196.560  1.31140      2    69.459    21.081   -0.52666   \n",
       "2       468437      1   45.653 -2.76860      2    45.927    22.822   -1.61910   \n",
       "3       272337      1   49.415 -0.57805      2    45.929    14.263    1.55280   \n",
       "4       354546      1   71.988 -2.60390      2    62.029    21.453   -0.51082   \n",
       "\n",
       "   lep_eta_1  lep_phi_0  lep_phi_1   lep_E_0  lep_E_1  lep_charge_0  \\\n",
       "0    2.27420  -2.316400   -1.39410   62129.0  74721.0            -1   \n",
       "1    0.22380   0.023132   -0.67855   79317.0  21611.0            -1   \n",
       "2   -2.00770   1.901700   -0.11248  120480.0  86498.0            -1   \n",
       "3    0.12809   2.254700   -2.54810  113360.0  14380.0            -1   \n",
       "4   -0.38177   0.236200    1.40820   70300.0  23036.0            -1   \n",
       "\n",
       "   lep_charge_1  lep_type_0  lep_type_1  jet_n  jet_pt_0  jet_pt_1  jet_eta_0  \\\n",
       "0             1          13          11      2     26.32    20.064    -1.1350   \n",
       "1             1          13          13      2    192.12    36.217    -1.2643   \n",
       "2             1          11          11      0     -7.00    -7.000    -7.0000   \n",
       "3             1          13          13      0     -7.00    -7.000    -7.0000   \n",
       "4             1          11          13      0     -7.00    -7.000    -7.0000   \n",
       "\n",
       "   jet_eta_1  jet_phi_0  jet_phi_1   jet_E_0  jet_E_1  mcWeight  runNumber  \\\n",
       "0   -2.07540    -2.8092     2.0740   45397.0  81304.0  0.000002     284500   \n",
       "1   -0.69746    -2.2147    -1.9152  367670.0  45733.0  0.000288     284500   \n",
       "2   -7.00000    -7.0000    -7.0000      -7.0     -7.0  0.000029     284500   \n",
       "3   -7.00000    -7.0000    -7.0000      -7.0     -7.0  0.000029     284500   \n",
       "4   -7.00000    -7.0000    -7.0000      -7.0     -7.0  0.000002     284500   \n",
       "\n",
       "   channelNumber  \n",
       "0         345323  \n",
       "1         363492  \n",
       "2         345324  \n",
       "3         345324  \n",
       "4         345323  "
      ]
     },
     "metadata": {},
     "output_type": "display_data"
    }
   ],
   "source": [
    "#examine first few events\n",
    "display(dfall.head())\n",
    "display(dfall.head())\n",
    "\n"
   ]
  },
  {
   "cell_type": "code",
   "execution_count": 8,
   "metadata": {
    "colab": {
     "base_uri": "https://localhost:8080/",
     "height": 308
    },
    "colab_type": "code",
    "executionInfo": {
     "elapsed": 16072,
     "status": "ok",
     "timestamp": 1590131870662,
     "user": {
      "displayName": "David Rousseau",
      "photoUrl": "",
      "userId": "13371246477126231971"
     },
     "user_tz": -120
    },
    "id": "Oz-lWJhgrlHg",
    "outputId": "d71ee65f-03a9-435b-fb55-7be4a7ecaeb0"
   },
   "outputs": [
    {
     "data": {
      "text/html": [
       "<div>\n",
       "<style scoped>\n",
       "    .dataframe tbody tr th:only-of-type {\n",
       "        vertical-align: middle;\n",
       "    }\n",
       "\n",
       "    .dataframe tbody tr th {\n",
       "        vertical-align: top;\n",
       "    }\n",
       "\n",
       "    .dataframe thead th {\n",
       "        text-align: right;\n",
       "    }\n",
       "</style>\n",
       "<table border=\"1\" class=\"dataframe\">\n",
       "  <thead>\n",
       "    <tr style=\"text-align: right;\">\n",
       "      <th></th>\n",
       "      <th>eventNumber</th>\n",
       "      <th>label</th>\n",
       "      <th>met_et</th>\n",
       "      <th>met_phi</th>\n",
       "      <th>lep_n</th>\n",
       "      <th>lep_pt_0</th>\n",
       "      <th>lep_pt_1</th>\n",
       "      <th>lep_eta_0</th>\n",
       "      <th>lep_eta_1</th>\n",
       "      <th>lep_phi_0</th>\n",
       "      <th>lep_phi_1</th>\n",
       "      <th>lep_E_0</th>\n",
       "      <th>lep_E_1</th>\n",
       "      <th>lep_charge_0</th>\n",
       "      <th>lep_charge_1</th>\n",
       "      <th>lep_type_0</th>\n",
       "      <th>lep_type_1</th>\n",
       "      <th>jet_n</th>\n",
       "      <th>jet_pt_0</th>\n",
       "      <th>jet_pt_1</th>\n",
       "      <th>jet_eta_0</th>\n",
       "      <th>jet_eta_1</th>\n",
       "      <th>jet_phi_0</th>\n",
       "      <th>jet_phi_1</th>\n",
       "      <th>jet_E_0</th>\n",
       "      <th>jet_E_1</th>\n",
       "      <th>mcWeight</th>\n",
       "      <th>runNumber</th>\n",
       "      <th>channelNumber</th>\n",
       "    </tr>\n",
       "  </thead>\n",
       "  <tbody>\n",
       "    <tr>\n",
       "      <th>count</th>\n",
       "      <td>6.000000e+05</td>\n",
       "      <td>600000.000000</td>\n",
       "      <td>600000.000000</td>\n",
       "      <td>600000.000000</td>\n",
       "      <td>600000.000000</td>\n",
       "      <td>600000.000000</td>\n",
       "      <td>600000.000000</td>\n",
       "      <td>600000.000000</td>\n",
       "      <td>600000.000000</td>\n",
       "      <td>600000.000000</td>\n",
       "      <td>600000.000000</td>\n",
       "      <td>6.000000e+05</td>\n",
       "      <td>6.000000e+05</td>\n",
       "      <td>600000.000000</td>\n",
       "      <td>600000.000000</td>\n",
       "      <td>600000.000000</td>\n",
       "      <td>600000.000000</td>\n",
       "      <td>600000.000000</td>\n",
       "      <td>600000.000000</td>\n",
       "      <td>600000.000000</td>\n",
       "      <td>600000.000000</td>\n",
       "      <td>600000.000000</td>\n",
       "      <td>600000.000000</td>\n",
       "      <td>600000.000000</td>\n",
       "      <td>6.000000e+05</td>\n",
       "      <td>6.000000e+05</td>\n",
       "      <td>600000.000000</td>\n",
       "      <td>600000.0</td>\n",
       "      <td>600000.000000</td>\n",
       "    </tr>\n",
       "    <tr>\n",
       "      <th>mean</th>\n",
       "      <td>7.029775e+05</td>\n",
       "      <td>0.666667</td>\n",
       "      <td>60.365356</td>\n",
       "      <td>-0.008556</td>\n",
       "      <td>2.005748</td>\n",
       "      <td>60.270328</td>\n",
       "      <td>28.133970</td>\n",
       "      <td>0.000269</td>\n",
       "      <td>-0.000664</td>\n",
       "      <td>0.005219</td>\n",
       "      <td>0.008524</td>\n",
       "      <td>1.164008e+05</td>\n",
       "      <td>5.630948e+04</td>\n",
       "      <td>-0.027027</td>\n",
       "      <td>0.027037</td>\n",
       "      <td>11.907273</td>\n",
       "      <td>11.958010</td>\n",
       "      <td>1.334185</td>\n",
       "      <td>59.606114</td>\n",
       "      <td>13.521164</td>\n",
       "      <td>-1.934521</td>\n",
       "      <td>-4.402337</td>\n",
       "      <td>-1.939645</td>\n",
       "      <td>-4.401941</td>\n",
       "      <td>1.375410e+05</td>\n",
       "      <td>4.125468e+04</td>\n",
       "      <td>0.000218</td>\n",
       "      <td>284500.0</td>\n",
       "      <td>351379.666667</td>\n",
       "    </tr>\n",
       "    <tr>\n",
       "      <th>std</th>\n",
       "      <td>4.568961e+05</td>\n",
       "      <td>0.471405</td>\n",
       "      <td>48.153210</td>\n",
       "      <td>1.812778</td>\n",
       "      <td>0.076061</td>\n",
       "      <td>42.676858</td>\n",
       "      <td>20.352272</td>\n",
       "      <td>1.210614</td>\n",
       "      <td>1.235890</td>\n",
       "      <td>1.811177</td>\n",
       "      <td>1.814205</td>\n",
       "      <td>1.083341e+05</td>\n",
       "      <td>5.748834e+04</td>\n",
       "      <td>0.999636</td>\n",
       "      <td>0.999635</td>\n",
       "      <td>0.995692</td>\n",
       "      <td>0.999119</td>\n",
       "      <td>1.232632</td>\n",
       "      <td>79.586143</td>\n",
       "      <td>38.074439</td>\n",
       "      <td>3.349404</td>\n",
       "      <td>3.491304</td>\n",
       "      <td>3.489197</td>\n",
       "      <td>3.559421</td>\n",
       "      <td>1.980717e+05</td>\n",
       "      <td>8.990068e+04</td>\n",
       "      <td>0.000736</td>\n",
       "      <td>0.0</td>\n",
       "      <td>8564.720183</td>\n",
       "    </tr>\n",
       "    <tr>\n",
       "      <th>min</th>\n",
       "      <td>1.000000e+00</td>\n",
       "      <td>0.000000</td>\n",
       "      <td>0.044211</td>\n",
       "      <td>-3.141600</td>\n",
       "      <td>2.000000</td>\n",
       "      <td>25.000000</td>\n",
       "      <td>7.000300</td>\n",
       "      <td>-2.700000</td>\n",
       "      <td>-2.699900</td>\n",
       "      <td>-3.141600</td>\n",
       "      <td>-3.141600</td>\n",
       "      <td>2.501300e+04</td>\n",
       "      <td>7.003800e+03</td>\n",
       "      <td>-1.000000</td>\n",
       "      <td>-1.000000</td>\n",
       "      <td>11.000000</td>\n",
       "      <td>11.000000</td>\n",
       "      <td>0.000000</td>\n",
       "      <td>-7.000000</td>\n",
       "      <td>-7.000000</td>\n",
       "      <td>-7.000000</td>\n",
       "      <td>-7.000000</td>\n",
       "      <td>-7.000000</td>\n",
       "      <td>-7.000000</td>\n",
       "      <td>-7.000000e+00</td>\n",
       "      <td>-7.000000e+00</td>\n",
       "      <td>-0.045557</td>\n",
       "      <td>284500.0</td>\n",
       "      <td>345323.000000</td>\n",
       "    </tr>\n",
       "    <tr>\n",
       "      <th>25%</th>\n",
       "      <td>3.498568e+05</td>\n",
       "      <td>0.000000</td>\n",
       "      <td>33.196000</td>\n",
       "      <td>-1.577600</td>\n",
       "      <td>2.000000</td>\n",
       "      <td>36.624750</td>\n",
       "      <td>15.316000</td>\n",
       "      <td>-0.899650</td>\n",
       "      <td>-0.946043</td>\n",
       "      <td>-1.560200</td>\n",
       "      <td>-1.562900</td>\n",
       "      <td>5.221675e+04</td>\n",
       "      <td>2.329100e+04</td>\n",
       "      <td>-1.000000</td>\n",
       "      <td>-1.000000</td>\n",
       "      <td>11.000000</td>\n",
       "      <td>11.000000</td>\n",
       "      <td>0.000000</td>\n",
       "      <td>-7.000000</td>\n",
       "      <td>-7.000000</td>\n",
       "      <td>-7.000000</td>\n",
       "      <td>-7.000000</td>\n",
       "      <td>-7.000000</td>\n",
       "      <td>-7.000000</td>\n",
       "      <td>-7.000000e+00</td>\n",
       "      <td>-7.000000e+00</td>\n",
       "      <td>0.000002</td>\n",
       "      <td>284500.0</td>\n",
       "      <td>345323.000000</td>\n",
       "    </tr>\n",
       "    <tr>\n",
       "      <th>50%</th>\n",
       "      <td>6.678815e+05</td>\n",
       "      <td>1.000000</td>\n",
       "      <td>50.082000</td>\n",
       "      <td>-0.018694</td>\n",
       "      <td>2.000000</td>\n",
       "      <td>48.229500</td>\n",
       "      <td>23.644000</td>\n",
       "      <td>0.003413</td>\n",
       "      <td>0.002974</td>\n",
       "      <td>0.014583</td>\n",
       "      <td>0.018823</td>\n",
       "      <td>8.184450e+04</td>\n",
       "      <td>3.824900e+04</td>\n",
       "      <td>-1.000000</td>\n",
       "      <td>1.000000</td>\n",
       "      <td>11.000000</td>\n",
       "      <td>11.000000</td>\n",
       "      <td>1.000000</td>\n",
       "      <td>38.744000</td>\n",
       "      <td>-7.000000</td>\n",
       "      <td>-0.891010</td>\n",
       "      <td>-7.000000</td>\n",
       "      <td>-1.210600</td>\n",
       "      <td>-7.000000</td>\n",
       "      <td>7.501700e+04</td>\n",
       "      <td>-7.000000e+00</td>\n",
       "      <td>0.000029</td>\n",
       "      <td>284500.0</td>\n",
       "      <td>345324.000000</td>\n",
       "    </tr>\n",
       "    <tr>\n",
       "      <th>75%</th>\n",
       "      <td>1.001273e+06</td>\n",
       "      <td>1.000000</td>\n",
       "      <td>73.032250</td>\n",
       "      <td>1.559300</td>\n",
       "      <td>2.000000</td>\n",
       "      <td>68.979000</td>\n",
       "      <td>34.149000</td>\n",
       "      <td>0.901950</td>\n",
       "      <td>0.942210</td>\n",
       "      <td>1.573000</td>\n",
       "      <td>1.577300</td>\n",
       "      <td>1.412400e+05</td>\n",
       "      <td>6.730825e+04</td>\n",
       "      <td>1.000000</td>\n",
       "      <td>1.000000</td>\n",
       "      <td>13.000000</td>\n",
       "      <td>13.000000</td>\n",
       "      <td>2.000000</td>\n",
       "      <td>84.291250</td>\n",
       "      <td>26.881000</td>\n",
       "      <td>0.724705</td>\n",
       "      <td>-0.821005</td>\n",
       "      <td>0.967753</td>\n",
       "      <td>-1.088575</td>\n",
       "      <td>1.766200e+05</td>\n",
       "      <td>5.060500e+04</td>\n",
       "      <td>0.000197</td>\n",
       "      <td>284500.0</td>\n",
       "      <td>363492.000000</td>\n",
       "    </tr>\n",
       "    <tr>\n",
       "      <th>max</th>\n",
       "      <td>1.997995e+06</td>\n",
       "      <td>1.000000</td>\n",
       "      <td>7062.200000</td>\n",
       "      <td>3.141600</td>\n",
       "      <td>5.000000</td>\n",
       "      <td>7041.400000</td>\n",
       "      <td>744.900000</td>\n",
       "      <td>2.699800</td>\n",
       "      <td>2.700000</td>\n",
       "      <td>3.141500</td>\n",
       "      <td>3.141600</td>\n",
       "      <td>7.041600e+06</td>\n",
       "      <td>2.107900e+06</td>\n",
       "      <td>1.000000</td>\n",
       "      <td>1.000000</td>\n",
       "      <td>13.000000</td>\n",
       "      <td>13.000000</td>\n",
       "      <td>13.000000</td>\n",
       "      <td>1658.200000</td>\n",
       "      <td>1429.800000</td>\n",
       "      <td>2.500000</td>\n",
       "      <td>2.500000</td>\n",
       "      <td>3.141600</td>\n",
       "      <td>3.141600</td>\n",
       "      <td>5.638800e+06</td>\n",
       "      <td>2.784300e+06</td>\n",
       "      <td>0.052420</td>\n",
       "      <td>284500.0</td>\n",
       "      <td>363492.000000</td>\n",
       "    </tr>\n",
       "  </tbody>\n",
       "</table>\n",
       "</div>"
      ],
      "text/plain": [
       "        eventNumber          label         met_et        met_phi  \\\n",
       "count  6.000000e+05  600000.000000  600000.000000  600000.000000   \n",
       "mean   7.029775e+05       0.666667      60.365356      -0.008556   \n",
       "std    4.568961e+05       0.471405      48.153210       1.812778   \n",
       "min    1.000000e+00       0.000000       0.044211      -3.141600   \n",
       "25%    3.498568e+05       0.000000      33.196000      -1.577600   \n",
       "50%    6.678815e+05       1.000000      50.082000      -0.018694   \n",
       "75%    1.001273e+06       1.000000      73.032250       1.559300   \n",
       "max    1.997995e+06       1.000000    7062.200000       3.141600   \n",
       "\n",
       "               lep_n       lep_pt_0       lep_pt_1      lep_eta_0  \\\n",
       "count  600000.000000  600000.000000  600000.000000  600000.000000   \n",
       "mean        2.005748      60.270328      28.133970       0.000269   \n",
       "std         0.076061      42.676858      20.352272       1.210614   \n",
       "min         2.000000      25.000000       7.000300      -2.700000   \n",
       "25%         2.000000      36.624750      15.316000      -0.899650   \n",
       "50%         2.000000      48.229500      23.644000       0.003413   \n",
       "75%         2.000000      68.979000      34.149000       0.901950   \n",
       "max         5.000000    7041.400000     744.900000       2.699800   \n",
       "\n",
       "           lep_eta_1      lep_phi_0      lep_phi_1       lep_E_0  \\\n",
       "count  600000.000000  600000.000000  600000.000000  6.000000e+05   \n",
       "mean       -0.000664       0.005219       0.008524  1.164008e+05   \n",
       "std         1.235890       1.811177       1.814205  1.083341e+05   \n",
       "min        -2.699900      -3.141600      -3.141600  2.501300e+04   \n",
       "25%        -0.946043      -1.560200      -1.562900  5.221675e+04   \n",
       "50%         0.002974       0.014583       0.018823  8.184450e+04   \n",
       "75%         0.942210       1.573000       1.577300  1.412400e+05   \n",
       "max         2.700000       3.141500       3.141600  7.041600e+06   \n",
       "\n",
       "            lep_E_1   lep_charge_0   lep_charge_1     lep_type_0  \\\n",
       "count  6.000000e+05  600000.000000  600000.000000  600000.000000   \n",
       "mean   5.630948e+04      -0.027027       0.027037      11.907273   \n",
       "std    5.748834e+04       0.999636       0.999635       0.995692   \n",
       "min    7.003800e+03      -1.000000      -1.000000      11.000000   \n",
       "25%    2.329100e+04      -1.000000      -1.000000      11.000000   \n",
       "50%    3.824900e+04      -1.000000       1.000000      11.000000   \n",
       "75%    6.730825e+04       1.000000       1.000000      13.000000   \n",
       "max    2.107900e+06       1.000000       1.000000      13.000000   \n",
       "\n",
       "          lep_type_1          jet_n       jet_pt_0       jet_pt_1  \\\n",
       "count  600000.000000  600000.000000  600000.000000  600000.000000   \n",
       "mean       11.958010       1.334185      59.606114      13.521164   \n",
       "std         0.999119       1.232632      79.586143      38.074439   \n",
       "min        11.000000       0.000000      -7.000000      -7.000000   \n",
       "25%        11.000000       0.000000      -7.000000      -7.000000   \n",
       "50%        11.000000       1.000000      38.744000      -7.000000   \n",
       "75%        13.000000       2.000000      84.291250      26.881000   \n",
       "max        13.000000      13.000000    1658.200000    1429.800000   \n",
       "\n",
       "           jet_eta_0      jet_eta_1      jet_phi_0      jet_phi_1  \\\n",
       "count  600000.000000  600000.000000  600000.000000  600000.000000   \n",
       "mean       -1.934521      -4.402337      -1.939645      -4.401941   \n",
       "std         3.349404       3.491304       3.489197       3.559421   \n",
       "min        -7.000000      -7.000000      -7.000000      -7.000000   \n",
       "25%        -7.000000      -7.000000      -7.000000      -7.000000   \n",
       "50%        -0.891010      -7.000000      -1.210600      -7.000000   \n",
       "75%         0.724705      -0.821005       0.967753      -1.088575   \n",
       "max         2.500000       2.500000       3.141600       3.141600   \n",
       "\n",
       "            jet_E_0       jet_E_1       mcWeight  runNumber  channelNumber  \n",
       "count  6.000000e+05  6.000000e+05  600000.000000   600000.0  600000.000000  \n",
       "mean   1.375410e+05  4.125468e+04       0.000218   284500.0  351379.666667  \n",
       "std    1.980717e+05  8.990068e+04       0.000736        0.0    8564.720183  \n",
       "min   -7.000000e+00 -7.000000e+00      -0.045557   284500.0  345323.000000  \n",
       "25%   -7.000000e+00 -7.000000e+00       0.000002   284500.0  345323.000000  \n",
       "50%    7.501700e+04 -7.000000e+00       0.000029   284500.0  345324.000000  \n",
       "75%    1.766200e+05  5.060500e+04       0.000197   284500.0  363492.000000  \n",
       "max    5.638800e+06  2.784300e+06       0.052420   284500.0  363492.000000  "
      ]
     },
     "execution_count": 8,
     "metadata": {},
     "output_type": "execute_result"
    }
   ],
   "source": [
    "#examine feature distribution\n",
    "dfall.describe()"
   ]
  },
  {
   "cell_type": "code",
   "execution_count": 9,
   "metadata": {
    "colab": {
     "base_uri": "https://localhost:8080/",
     "height": 52
    },
    "colab_type": "code",
    "executionInfo": {
     "elapsed": 16064,
     "status": "ok",
     "timestamp": 1590131870663,
     "user": {
      "displayName": "David Rousseau",
      "photoUrl": "",
      "userId": "13371246477126231971"
     },
     "user_tz": -120
    },
    "id": "lQsalTmorlHj",
    "outputId": "98db6ff1-2f63-48ee-9246-b7ef46c66e5c"
   },
   "outputs": [
    {
     "name": "stdout",
     "output_type": "stream",
     "text": [
      "total label weights  B S = (124.6622944642, 6.2000533976)\n",
      "total class number of events B S (200000, 400000)\n"
     ]
    }
   ],
   "source": [
    "label_weights = (dfall[dfall.label==0].mcWeight.sum(), dfall[dfall.label==1].mcWeight.sum() ) \n",
    "print(\"total label weights  B S =\",label_weights)\n",
    "\n",
    "\n",
    "label_nevents = (dfall[dfall.label==0].shape[0], dfall[dfall.label==1].shape[0] )\n",
    "print (\"total class number of events B S\",label_nevents)\n",
    "\n",
    "\n",
    "\n",
    "\n",
    "\n",
    "\n",
    "\n"
   ]
  },
  {
   "cell_type": "markdown",
   "metadata": {
    "colab_type": "text",
    "id": "rtI5u5GErlHq"
   },
   "source": [
    "## Event selection"
   ]
  },
  {
   "cell_type": "code",
   "execution_count": 10,
   "metadata": {
    "colab": {
     "base_uri": "https://localhost:8080/",
     "height": 52
    },
    "colab_type": "code",
    "executionInfo": {
     "elapsed": 16058,
     "status": "ok",
     "timestamp": 1590131870664,
     "user": {
      "displayName": "David Rousseau",
      "photoUrl": "",
      "userId": "13371246477126231971"
     },
     "user_tz": -120
    },
    "id": "kaO2JM1hrlHr",
    "outputId": "d2eb784d-c8fe-40cc-ce1d-6ae7f92aece9"
   },
   "outputs": [
    {
     "name": "stdout",
     "output_type": "stream",
     "text": [
      "Df shape before selection : (600000, 29)\n",
      "Df shape after selection : (577357, 29)\n"
     ]
    }
   ],
   "source": [
    "print (\"Df shape before selection :\", dfall.shape)\n",
    "# only keep events with exactly two leptons\n",
    "# only keep events with positive weight. This is in principle wrong. Many DS tool choke on negative weight.\n",
    "fulldata=dfall[ (dfall.lep_n==2) & (dfall.mcWeight > 0)]  \n",
    "\n",
    "\n",
    "print (\"Df shape after selection :\",fulldata.shape)\n",
    "\n"
   ]
  },
  {
   "cell_type": "markdown",
   "metadata": {
    "colab_type": "text",
    "id": "nviyIMgerlH3"
   },
   "source": [
    "\n",
    "# DO NOT MODIFY ANYTHING ABOVE\n",
    "... and always rerun from this cell whenever you change something below"
   ]
  },
  {
   "cell_type": "code",
   "execution_count": 11,
   "metadata": {
    "colab": {
     "base_uri": "https://localhost:8080/",
     "height": 215
    },
    "colab_type": "code",
    "executionInfo": {
     "elapsed": 16498,
     "status": "ok",
     "timestamp": 1590131871120,
     "user": {
      "displayName": "David Rousseau",
      "photoUrl": "",
      "userId": "13371246477126231971"
     },
     "user_tz": -120
    },
    "id": "6e0Hlpv6rlH4",
    "outputId": "f495b400-8875-40c5-e869-ccc92b7b0459",
    "scrolled": true
   },
   "outputs": [
    {
     "name": "stdout",
     "output_type": "stream",
     "text": [
      "Df shape of dataset to be used : (577357, 6)\n"
     ]
    },
    {
     "data": {
      "text/html": [
       "<div>\n",
       "<style scoped>\n",
       "    .dataframe tbody tr th:only-of-type {\n",
       "        vertical-align: middle;\n",
       "    }\n",
       "\n",
       "    .dataframe tbody tr th {\n",
       "        vertical-align: top;\n",
       "    }\n",
       "\n",
       "    .dataframe thead th {\n",
       "        text-align: right;\n",
       "    }\n",
       "</style>\n",
       "<table border=\"1\" class=\"dataframe\">\n",
       "  <thead>\n",
       "    <tr style=\"text-align: right;\">\n",
       "      <th></th>\n",
       "      <th>met_et</th>\n",
       "      <th>met_phi</th>\n",
       "      <th>lep_pt_0</th>\n",
       "      <th>lep_pt_1</th>\n",
       "      <th>lep_phi_0</th>\n",
       "      <th>lep_phi_1</th>\n",
       "    </tr>\n",
       "  </thead>\n",
       "  <tbody>\n",
       "    <tr>\n",
       "      <th>0</th>\n",
       "      <td>25.609</td>\n",
       "      <td>0.42452</td>\n",
       "      <td>48.295</td>\n",
       "      <td>15.214</td>\n",
       "      <td>-2.316400</td>\n",
       "      <td>-1.39410</td>\n",
       "    </tr>\n",
       "    <tr>\n",
       "      <th>1</th>\n",
       "      <td>196.560</td>\n",
       "      <td>1.31140</td>\n",
       "      <td>69.459</td>\n",
       "      <td>21.081</td>\n",
       "      <td>0.023132</td>\n",
       "      <td>-0.67855</td>\n",
       "    </tr>\n",
       "    <tr>\n",
       "      <th>2</th>\n",
       "      <td>45.653</td>\n",
       "      <td>-2.76860</td>\n",
       "      <td>45.927</td>\n",
       "      <td>22.822</td>\n",
       "      <td>1.901700</td>\n",
       "      <td>-0.11248</td>\n",
       "    </tr>\n",
       "    <tr>\n",
       "      <th>3</th>\n",
       "      <td>49.415</td>\n",
       "      <td>-0.57805</td>\n",
       "      <td>45.929</td>\n",
       "      <td>14.263</td>\n",
       "      <td>2.254700</td>\n",
       "      <td>-2.54810</td>\n",
       "    </tr>\n",
       "    <tr>\n",
       "      <th>4</th>\n",
       "      <td>71.988</td>\n",
       "      <td>-2.60390</td>\n",
       "      <td>62.029</td>\n",
       "      <td>21.453</td>\n",
       "      <td>0.236200</td>\n",
       "      <td>1.40820</td>\n",
       "    </tr>\n",
       "  </tbody>\n",
       "</table>\n",
       "</div>"
      ],
      "text/plain": [
       "    met_et  met_phi  lep_pt_0  lep_pt_1  lep_phi_0  lep_phi_1\n",
       "0   25.609  0.42452    48.295    15.214  -2.316400   -1.39410\n",
       "1  196.560  1.31140    69.459    21.081   0.023132   -0.67855\n",
       "2   45.653 -2.76860    45.927    22.822   1.901700   -0.11248\n",
       "3   49.415 -0.57805    45.929    14.263   2.254700   -2.54810\n",
       "4   71.988 -2.60390    62.029    21.453   0.236200    1.40820"
      ]
     },
     "metadata": {},
     "output_type": "display_data"
    },
    {
     "data": {
      "text/plain": [
       "0    1\n",
       "1    0\n",
       "2    1\n",
       "3    1\n",
       "4    1\n",
       "Name: label, dtype: int64"
      ]
     },
     "metadata": {},
     "output_type": "display_data"
    },
    {
     "data": {
      "text/plain": [
       "0    0.000002\n",
       "1    0.000288\n",
       "2    0.000029\n",
       "3    0.000029\n",
       "4    0.000002\n",
       "Name: mcWeight, dtype: float64"
      ]
     },
     "metadata": {},
     "output_type": "display_data"
    }
   ],
   "source": [
    "#hide label and weights in separate vectors\n",
    "#they are not real features\n",
    "\n",
    "#WARNING : there should be no selection nor shuffling later on ! (otherwise misalignement)\n",
    "target = fulldata[\"label\"]\n",
    "weights = fulldata[\"mcWeight\"]\n",
    "\n",
    "\n",
    "# for simplicity of the exercise only keep some features\n",
    "# this is actually making a deep copy from fulldata\n",
    "data=pd.DataFrame(fulldata, columns=[\"met_et\",\"met_phi\",\"lep_pt_0\",\"lep_pt_1\",'lep_phi_0', 'lep_phi_1'])\n",
    "#data=pd.DataFrame(fulldata, columns=[\"met_et\",\"met_phi\",\"lep_pt_0\",\"lep_pt_1\",'lep_eta_0', 'lep_eta_1', 'lep_phi_0', 'lep_phi_1','jet_n','jet_pt_0',\n",
    "#       'jet_pt_1', 'jet_eta_0', 'jet_eta_1', 'jet_phi_0', 'jet_phi_1']\n",
    "\n",
    "print (\"Df shape of dataset to be used :\",data.shape)\n",
    "display(data.head())\n",
    "display(target.head())\n",
    "display(weights.head())\n",
    "\n"
   ]
  },
  {
   "cell_type": "code",
   "execution_count": 12,
   "metadata": {
    "scrolled": true
   },
   "outputs": [
    {
     "data": {
      "text/plain": [
       "<AxesSubplot:title={'center':'Missing Transverse Energy for large lepton Pt'}, ylabel='Frequency'>"
      ]
     },
     "execution_count": 12,
     "metadata": {},
     "output_type": "execute_result"
    },
    {
     "data": {
      "image/png": "[encoded data removed]",
      "text/plain": [
       "<Figure size 432x288 with 1 Axes>"
      ]
     },
     "metadata": {
      "needs_background": "light"
     },
     "output_type": "display_data"
    }
   ],
   "source": [
    "#data[data.met_et<1000]['met_et'].plot.hist(title='Missing Transverse Energy')\n",
    "data[data.lep_pt_0+data.lep_pt_1>1000]['met_et'].plot.hist(bins=np.linspace(0,400,100),title='Missing Transverse Energy for large lepton Pt')"
   ]
  },
  {
   "cell_type": "code",
   "execution_count": 13,
   "metadata": {
    "scrolled": true
   },
   "outputs": [
    {
     "data": {
      "text/plain": [
       "<Figure size 432x288 with 0 Axes>"
      ]
     },
     "metadata": {},
     "output_type": "display_data"
    },
    {
     "data": {
      "image/png": "[encoded data removed]",
      "text/plain": [
       "<Figure size 432x288 with 1 Axes>"
      ]
     },
     "metadata": {
      "needs_background": "light"
     },
     "output_type": "display_data"
    }
   ],
   "source": [
    "fig=plt.figure()\n",
    "ax=data[target==0].plot.scatter(x='met_et', y='lep_pt_0',color=\"b\",label=\"B\")\n",
    "data[target==1].plot.scatter(x='met_et', y='lep_pt_0',color=\"r\",label=\"S\",ax=ax)\n",
    "#plt.legend(loc='best')\n",
    "#ax.set_xlabel('weight*1000')\n",
    "plt.show()"
   ]
  },
  {
   "cell_type": "code",
   "execution_count": 14,
   "metadata": {
    "scrolled": true
   },
   "outputs": [
    {
     "data": {
      "text/html": [
       "<div>\n",
       "<style scoped>\n",
       "    .dataframe tbody tr th:only-of-type {\n",
       "        vertical-align: middle;\n",
       "    }\n",
       "\n",
       "    .dataframe tbody tr th {\n",
       "        vertical-align: top;\n",
       "    }\n",
       "\n",
       "    .dataframe thead th {\n",
       "        text-align: right;\n",
       "    }\n",
       "</style>\n",
       "<table border=\"1\" class=\"dataframe\">\n",
       "  <thead>\n",
       "    <tr style=\"text-align: right;\">\n",
       "      <th></th>\n",
       "      <th>met_et</th>\n",
       "      <th>met_phi</th>\n",
       "      <th>lep_pt_0</th>\n",
       "      <th>lep_pt_1</th>\n",
       "      <th>lep_phi_0</th>\n",
       "      <th>lep_phi_1</th>\n",
       "    </tr>\n",
       "  </thead>\n",
       "  <tbody>\n",
       "    <tr>\n",
       "      <th>308053</th>\n",
       "      <td>2755.4</td>\n",
       "      <td>1.8538</td>\n",
       "      <td>2678.7</td>\n",
       "      <td>42.131</td>\n",
       "      <td>-1.2958</td>\n",
       "      <td>0.13151</td>\n",
       "    </tr>\n",
       "    <tr>\n",
       "      <th>552671</th>\n",
       "      <td>2145.7</td>\n",
       "      <td>0.3056</td>\n",
       "      <td>2180.0</td>\n",
       "      <td>30.531</td>\n",
       "      <td>-2.8257</td>\n",
       "      <td>1.50800</td>\n",
       "    </tr>\n",
       "  </tbody>\n",
       "</table>\n",
       "</div>"
      ],
      "text/plain": [
       "        met_et  met_phi  lep_pt_0  lep_pt_1  lep_phi_0  lep_phi_1\n",
       "308053  2755.4   1.8538    2678.7    42.131    -1.2958    0.13151\n",
       "552671  2145.7   0.3056    2180.0    30.531    -2.8257    1.50800"
      ]
     },
     "execution_count": 14,
     "metadata": {},
     "output_type": "execute_result"
    }
   ],
   "source": [
    "data[data.lep_pt_0+data.lep_pt_1>2000].head()"
   ]
  },
  {
   "cell_type": "markdown",
   "metadata": {
    "colab_type": "text",
    "id": "bVHrJtodL2wo"
   },
   "source": [
    "## Examine the weights"
   ]
  },
  {
   "cell_type": "code",
   "execution_count": 15,
   "metadata": {
    "colab": {
     "base_uri": "https://localhost:8080/",
     "height": 265
    },
    "colab_type": "code",
    "executionInfo": {
     "elapsed": 16493,
     "status": "ok",
     "timestamp": 1590131871121,
     "user": {
      "displayName": "David Rousseau",
      "photoUrl": "",
      "userId": "13371246477126231971"
     },
     "user_tz": -120
    },
    "id": "cFD4s616LS0F",
    "outputId": "cb7c7295-9e44-433c-aa36-b67626e635a9"
   },
   "outputs": [
    {
     "data": {
      "image/png": "[encoded data removed]",
      "text/plain": [
       "<Figure size 432x288 with 1 Axes>"
      ]
     },
     "metadata": {
      "needs_background": "light"
     },
     "output_type": "display_data"
    }
   ],
   "source": [
    "fig,ax=plt.subplots()\n",
    "#fig=plt.figure()\n",
    "\n",
    "bins=np.linspace(-1,1,101)\n",
    "plt.hist(weights[target==0]*1000,bins=bins,color='b',alpha=0.5,density=True,label='B ackground')\n",
    "plt.hist(weights[target==1]*10000,bins=bins,color='r',alpha=0.5,density=True,label='S ignal (Wx10)')\n",
    "plt.legend(loc='best')\n",
    "ax.set_xlabel('weight*1000')\n",
    "plt.show()"
   ]
  },
  {
   "cell_type": "markdown",
   "metadata": {},
   "source": [
    "# Some weight studies \n",
    "\n",
    "$s=\\sum w$ for signal dataset : predicted number of signal events (luminosity, cross section, efficiencies etc... already includded in the weights). Ditto for b background. \n",
    "\n",
    "\n",
    "Effective number of events fraction : $\\frac{N_{eff}}{N}= \\frac{1}{1+\\frac{Var(w)}{<w>^2}}$ . Example : if 0.2 it means the precision achieved with this dataset is the one which would be achieved with an unweighted dataset of 0.2 x N events (this is a rough estimate, only true for a simple counting)"
   ]
  },
  {
   "cell_type": "code",
   "execution_count": 16,
   "metadata": {
    "colab": {
     "base_uri": "https://localhost:8080/",
     "height": 121
    },
    "colab_type": "code",
    "executionInfo": {
     "elapsed": 16486,
     "status": "ok",
     "timestamp": 1590131871121,
     "user": {
      "displayName": "David Rousseau",
      "photoUrl": "",
      "userId": "13371246477126231971"
     },
     "user_tz": -120
    },
    "id": "YdpzI4-6MVIK",
    "outputId": "96d931cf-302f-48de-e3cc-77eead2ba346"
   },
   "outputs": [
    {
     "name": "stdout",
     "output_type": "stream",
     "text": [
      "Weights quantities for background (target==0) and signal (target==1)\n",
      "Weights sum [159.6884919    6.17939825]\n",
      "N events [180381. 396976.]\n",
      "Weights mean [8.85284436e-04 1.55661759e-05]\n",
      "Weights std [8.53093648e-04 1.35576170e-05]\n",
      "Weights Neff fraction [0.51851137 0.56863978]\n"
     ]
    }
   ],
   "source": [
    "label_n_weights=np.zeros(2)\n",
    "label_sum_weights=np.zeros(2)\n",
    "label_mean_weights=np.zeros(2)\n",
    "label_std_weights=np.zeros(2)\n",
    "label_neff_fraction=np.zeros(2)\n",
    "\n",
    "for i in range(2):\n",
    "  label_n_weights[i]=weights[target==i].size\n",
    "  label_mean_weights[i]=weights[target==i].mean()\n",
    "  label_std_weights[i]=weights[target==i].std()\n",
    "  label_sum_weights[i]=weights[target==i].sum()\n",
    "  label_neff_fraction[i]=1/(1+(label_std_weights[i]/label_mean_weights[i])**2)\n",
    "\n",
    "print (\"Weights quantities for background (target==0) and signal (target==1)\")\n",
    "print (\"Weights sum\",label_sum_weights)\n",
    "print (\"N events\",label_n_weights)\n",
    "print (\"Weights mean\",label_mean_weights)\n",
    "print (\"Weights std\",label_std_weights)\n",
    "print (\"Weights Neff fraction\",label_neff_fraction)"
   ]
  },
  {
   "cell_type": "markdown",
   "metadata": {
    "colab_type": "text",
    "id": "F77Cx9LhKwqc"
   },
   "source": [
    "# Feature engineering\n",
    "To be switched on in a second iteration"
   ]
  },
  {
   "cell_type": "code",
   "execution_count": 17,
   "metadata": {
    "colab": {},
    "colab_type": "code",
    "id": "4oe_9ZEEKwqc"
   },
   "outputs": [],
   "source": [
    "if False: \n",
    "    data[\"lep_deltaphi\"]=np.abs(np.mod(data.lep_phi_1-data.lep_phi_0+3*np.pi,2*np.pi)-np.pi)\n",
    "    #data[\"lep_deltaphi\"]=data.lep_phi_1-data.lep_phi_0\n",
    "\n",
    "\n",
    "    print (data.shape)\n",
    "    display(data.head())\n",
    "   \n",
    "\n",
    "    \n",
    "\n"
   ]
  },
  {
   "cell_type": "markdown",
   "metadata": {},
   "source": [
    "# Plot the features"
   ]
  },
  {
   "cell_type": "code",
   "execution_count": 18,
   "metadata": {
    "colab": {
     "base_uri": "https://localhost:8080/",
     "height": 734
    },
    "colab_type": "code",
    "executionInfo": {
     "elapsed": 17877,
     "status": "ok",
     "timestamp": 1590131872516,
     "user": {
      "displayName": "David Rousseau",
      "photoUrl": "",
      "userId": "13371246477126231971"
     },
     "user_tz": -120
    },
    "id": "o2mf1bLVrlH7",
    "outputId": "135a52d1-8d7b-4c37-c430-52300696407c"
   },
   "outputs": [
    {
     "data": {
      "text/plain": [
       "<Figure size 432x288 with 0 Axes>"
      ]
     },
     "metadata": {},
     "output_type": "display_data"
    },
    {
     "data": {
      "image/png": "[encoded data removed]",
      "text/plain": [
       "<Figure size 1080x864 with 6 Axes>"
      ]
     },
     "metadata": {
      "needs_background": "light"
     },
     "output_type": "display_data"
    }
   ],
   "source": [
    "plt.figure()\n",
    "\n",
    "ax=data[target==0].hist(weights=weights[target==0],figsize=(15,12),color='b',alpha=0.5,density=True,label=\"B\")\n",
    "ax=ax.flatten()[:data.shape[1]] # to avoid error if holes in the grid of plots (like if 7 or 8 features)\n",
    "data[target==1].hist(weights=weights[target==1],figsize=(15,12),color='r',alpha=0.5,density=True,ax=ax,label=\"S\")\n",
    "\n",
    "\n",
    "plt.legend(loc=\"best\")\n",
    "plt.show()\n"
   ]
  },
  {
   "cell_type": "markdown",
   "metadata": {},
   "source": [
    "### Features correlation matrix"
   ]
  },
  {
   "cell_type": "code",
   "execution_count": 19,
   "metadata": {
    "scrolled": false
   },
   "outputs": [
    {
     "name": "stdout",
     "output_type": "stream",
     "text": [
      "Background feature correlation matrix\n"
     ]
    },
    {
     "data": {
      "image/png": "[encoded data removed]",
      "text/plain": [
       "<Figure size 432x288 with 2 Axes>"
      ]
     },
     "metadata": {
      "needs_background": "light"
     },
     "output_type": "display_data"
    },
    {
     "name": "stdout",
     "output_type": "stream",
     "text": [
      "Signal feature correlation matrix\n"
     ]
    },
    {
     "data": {
      "image/png": "[encoded data removed]",
      "text/plain": [
       "<Figure size 432x288 with 2 Axes>"
      ]
     },
     "metadata": {
      "needs_background": "light"
     },
     "output_type": "display_data"
    }
   ],
   "source": [
    "import seaborn as sn # seaborn for nice plot quicker\n",
    "print (\"Background feature correlation matrix\")\n",
    "corrMatrix = data[target==0].corr()\n",
    "sn.heatmap(corrMatrix, annot=True)\n",
    "plt.show()\n",
    "\n",
    "print (\"Signal feature correlation matrix\")\n",
    "corrMatrix = data[target==1].corr()\n",
    "sn.heatmap(corrMatrix, annot=True)\n",
    "plt.show()\n",
    "\n"
   ]
  },
  {
   "cell_type": "markdown",
   "metadata": {
    "colab_type": "text",
    "id": "4kowHjX4rlIC"
   },
   "source": [
    "## Split dataset and transform the features"
   ]
  },
  {
   "cell_type": "code",
   "execution_count": 20,
   "metadata": {
    "colab": {
     "base_uri": "https://localhost:8080/",
     "height": 207
    },
    "colab_type": "code",
    "executionInfo": {
     "elapsed": 18101,
     "status": "ok",
     "timestamp": 1590131872742,
     "user": {
      "displayName": "David Rousseau",
      "photoUrl": "",
      "userId": "13371246477126231971"
     },
     "user_tz": -120
    },
    "id": "Y9j5hdrmrlID",
    "outputId": "a4de829a-842d-4fff-d93c-bd16ff6d51a2"
   },
   "outputs": [
    {
     "name": "stdout",
     "output_type": "stream",
     "text": [
      "(433017, 6)\n",
      "(433017,)\n",
      "(433017,)\n",
      "(144340, 6)\n",
      "(144340,)\n",
      "(144340,)\n",
      "Orig : total weight sig 6.179398249600002\n",
      "Orig : total weight bkg 159.68849189959997\n",
      "Test : total weight sig 6.179443329600001\n",
      "Test : total weight bkg 158.92470712440002\n",
      "Train : total weight sig 119.95731511850002\n",
      "Train : total weight bkg 119.95731511849999\n"
     ]
    }
   ],
   "source": [
    "np.random.seed(31415) # set the random seed (used for the train/test splitting)\n",
    "\n",
    "from sklearn.model_selection import train_test_split\n",
    "from sklearn.preprocessing import StandardScaler\n",
    "train_size = 0.75 # fraction of sample used for training\n",
    "\n",
    "X_train, X_test, y_train, y_test, weights_train, weights_test = \\\n",
    "    train_test_split(data, target, weights, train_size=train_size)\n",
    "#reset index for dataseries, not needed for ndarray (X_train, X_test)\n",
    "y_train, y_test, weights_train, weights_test = \\\n",
    "    y_train.reset_index(drop=True),y_test.reset_index(drop=True), \\\n",
    "    weights_train.reset_index(drop=True), weights_test.reset_index(drop=True)\n",
    "\n",
    "print (X_train.shape)\n",
    "print (y_train.shape)\n",
    "print (weights_train.shape)\n",
    "print (X_test.shape)\n",
    "print (y_test.shape)\n",
    "print (weights_test.shape)\n",
    "\n",
    "\n",
    "\n",
    "\n",
    "\n",
    "#scale to mean 0 and variance 1\n",
    "\n",
    "scaler = StandardScaler()\n",
    "X_train = scaler.fit_transform(X_train)\n",
    "X_test = scaler.transform(X_test)  # applied the transformation calculated the line above\n",
    "\n",
    "\n",
    "class_weights_train = (weights_train[y_train == 0].sum(), weights_train[y_train == 1].sum())\n",
    "\n",
    "for i in range(len(class_weights_train)):\n",
    "    #training dataset: equalize number of background and signal\n",
    "    weights_train[y_train == i] *= max(class_weights_train)/ class_weights_train[i] \n",
    "    #test dataset : increase test weight to compensate for sampling\n",
    "    weights_test[y_test == i] *= 1/(1-train_size) \n",
    "    \n",
    "print (\"Orig : total weight sig\", weights[target == 1].sum())\n",
    "print (\"Orig : total weight bkg\", weights[target == 0].sum())\n",
    "\n",
    "\n",
    "print (\"Test : total weight sig\", weights_test[y_test == 1].sum())\n",
    "print (\"Test : total weight bkg\", weights_test[y_test == 0].sum())\n",
    "print (\"Train : total weight sig\", weights_train[y_train == 1].sum())\n",
    "print (\"Train : total weight bkg\", weights_train[y_train == 0].sum())\n",
    "\n",
    "\n",
    "    "
   ]
  },
  {
   "cell_type": "markdown",
   "metadata": {
    "colab_type": "text",
    "id": "yxybCOi-rlIM"
   },
   "source": [
    "# Testing BDT"
   ]
  },
  {
   "cell_type": "markdown",
   "metadata": {
    "colab_type": "text",
    "id": "AIsMSGl-Kwql"
   },
   "source": [
    "## Load significance function"
   ]
  },
  {
   "cell_type": "code",
   "execution_count": 21,
   "metadata": {
    "colab": {},
    "colab_type": "code",
    "id": "qubY3CMNKwql"
   },
   "outputs": [],
   "source": [
    "from math import sqrt\n",
    "from math import log\n",
    "def amsasimov(s,b): # asimov significance arXiv:1007.1727 eq. 97\n",
    "        if b<=0 or s<=0:\n",
    "            return 0\n",
    "        try:\n",
    "            return sqrt(2*((s+b)*log(1+float(s)/b)-s))\n",
    "        except ValueError:\n",
    "            print(1+float(s)/b)\n",
    "            print (2*((s+b)*log(1+float(s)/b)-s))\n",
    "        #return s/sqrt(s+b)\n"
   ]
  },
  {
   "cell_type": "markdown",
   "metadata": {
    "colab_type": "text",
    "id": "F4DfF0ISrlIN"
   },
   "source": [
    "## XGBoost"
   ]
  },
  {
   "cell_type": "code",
   "execution_count": 22,
   "metadata": {
    "colab": {
     "base_uri": "https://localhost:8080/",
     "height": 86
    },
    "colab_type": "code",
    "executionInfo": {
     "elapsed": 27562,
     "status": "ok",
     "timestamp": 1590131882207,
     "user": {
      "displayName": "David Rousseau",
      "photoUrl": "",
      "userId": "13371246477126231971"
     },
     "user_tz": -120
    },
    "id": "nqMCgvbkrlIN",
    "outputId": "a99b92a1-fd10-459d-fb59-0876c527574d",
    "scrolled": true
   },
   "outputs": [
    {
     "name": "stdout",
     "output_type": "stream",
     "text": [
      "Training time: 2.837488889694214\n",
      "auc test: 0.8635099181960473\n",
      "auc train: 0.8642336729914726\n",
      "Z: 0.8015178701442962\n"
     ]
    }
   ],
   "source": [
    "np.random.seed(31415) # set the random seed\n",
    "\n",
    "from xgboost import XGBClassifier\n",
    "from sklearn.metrics import roc_auc_score # for binary classification if x > 0.5 -> 1 else -> 0\n",
    "# tree_method=\"hist\" is 10 times faster, however less robust against awkwards features (not a bad idea to double check without it)\n",
    "# can even try tree_method=\"gpu_hist\" if proper GPU installation\n",
    "# use_label_encoder and eval_metric to silence warning in 1.3.0\n",
    "xgb = XGBClassifier(tree_method=\"hist\",use_label_encoder=False,eval_metric='logloss')\n",
    "# HPO (==Hyper Parameter Optimization), check on the web https://xgboost.readthedocs.io/ for other parameters\n",
    "#xgb = XGBClassifier(tree_method=\"hist\",use_label_encoder=False,max_depth=10,n_estimators=100) \n",
    "\n",
    "\n",
    "\n",
    "starting_time = time.time()\n",
    "\n",
    "xgb.fit(X_train, y_train.values, sample_weight=weights_train.values) # note that XGB 1.3.X requires positive weight\n",
    "\n",
    "        \n",
    "training_time = time.time( ) - starting_time\n",
    "print(\"Training time:\",training_time)\n",
    "\n",
    "y_pred_xgb = xgb.predict_proba(X_test)[:,1]\n",
    "y_pred_xgb = y_pred_xgb.ravel()\n",
    "y_pred_train_xgb = xgb.predict_proba(X_train)[:,1].ravel()\n",
    "auc_test_xgb = roc_auc_score(y_true=y_test, y_score=y_pred_xgb,sample_weight=weights_test)\n",
    "print(\"auc test:\",auc_test_xgb)\n",
    "print (\"auc train:\",roc_auc_score(y_true=y_train.values, y_score=y_pred_train_xgb,))\n",
    "int_pred_test_sig_xgb = [weights_test[(y_test ==1) & (y_pred_xgb > th_cut)].sum() for th_cut in np.linspace(0,1,num=50)]\n",
    "int_pred_test_bkg_xgb = [weights_test[(y_test ==0) & (y_pred_xgb > th_cut)].sum() for th_cut in np.linspace(0,1,num=50)]\n",
    "\n",
    "vamsasimov_xgb = [amsasimov(sumsig,sumbkg) for (sumsig,sumbkg) in zip(int_pred_test_sig_xgb,int_pred_test_bkg_xgb)]\n",
    "significance_xgb = max(vamsasimov_xgb)\n",
    "Z = significance_xgb\n",
    "print(\"Z:\",Z)\n",
    "# To save model\n",
    "xgb.save_model(\"XGBoost.model\")"
   ]
  },
  {
   "cell_type": "markdown",
   "metadata": {},
   "source": [
    "# Hyper Parameter Optimisation\n",
    "Can be done by hand, with [random search](https://scikit-learn.org/stable/modules/generated/sklearn.model_selection.RandomizedSearchCV.html) or [grid search](https://scikit-learn.org/stable/modules/generated/sklearn.model_selection.GridSearchCV.html) ."
   ]
  },
  {
   "cell_type": "code",
   "execution_count": 23,
   "metadata": {
    "scrolled": true
   },
   "outputs": [],
   "source": [
    "#RandomSearchCV for advanced HPO \n",
    "import scipy.stats as stats\n",
    "if False:\n",
    "    from sklearn.model_selection import RandomizedSearchCV\n",
    "\n",
    "    # specify parameters and distributions to sample from\n",
    "    param_dist_XGB = {'max_depth': stats.randint(2, 10), # default 6\n",
    "                      'n_estimators': stats.randint(10, 500), #default 100\n",
    "                      'learning_rate': stats.uniform(0.1, 0.5)} #def 0.3 \n",
    "\n",
    "    # default CV is 5 fold, reduce to 2 for speed concern\n",
    "    gsearch = RandomizedSearchCV(estimator = XGBClassifier(tree_method=\"hist\",use_label_encoder=False,eval_metric='logloss'), \n",
    "                        param_distributions = param_dist_XGB, \n",
    "                        scoring='roc_auc',n_iter=10,cv=2)\n",
    "    gsearch.fit(X_train,y_train, sample_weight=weights_train)\n",
    "\n",
    "    print (\"Best parameters : \",gsearch.best_params_)\n",
    "    print (\"Best score (on train dataset CV) : \",gsearch.best_score_)\n",
    "\n",
    "\n",
    "    y_pred_gs = gsearch.predict_proba(X_test)[:,1]\n",
    "    print(\"... corresponding score on test dataset : \",roc_auc_score(y_true=y_test, y_score=y_pred_gs, sample_weight=weights_test))\n",
    "    dfsearch=pd.DataFrame.from_dict(gsearch.cv_results_)\n",
    "    display(dfsearch)\n",
    "    dfsearch.plot.scatter(\"param_n_estimators\",\"mean_test_score\")"
   ]
  },
  {
   "cell_type": "markdown",
   "metadata": {
    "colab_type": "text",
    "id": "NmadcFRJrlIT"
   },
   "source": [
    "## LightGBM"
   ]
  },
  {
   "cell_type": "code",
   "execution_count": 24,
   "metadata": {
    "colab": {
     "base_uri": "https://localhost:8080/",
     "height": 104
    },
    "colab_type": "code",
    "executionInfo": {
     "elapsed": 9268,
     "status": "ok",
     "timestamp": 1590131954285,
     "user": {
      "displayName": "David Rousseau",
      "photoUrl": "",
      "userId": "13371246477126231971"
     },
     "user_tz": -120
    },
    "id": "9YmfuiwUrlIU",
    "outputId": "5105d03a-1fac-4fb6-e3ae-21ebd16c688c"
   },
   "outputs": [
    {
     "name": "stdout",
     "output_type": "stream",
     "text": [
      "Training time: 3.3410937786102295\n",
      "auc test: 0.8430003035698995\n",
      "auc train: 0.8477427479273085\n",
      "Z: 0.7534538457691546\n"
     ]
    },
    {
     "data": {
      "text/plain": [
       "<lightgbm.basic.Booster at 0x7fb2a7915be0>"
      ]
     },
     "execution_count": 24,
     "metadata": {},
     "output_type": "execute_result"
    }
   ],
   "source": [
    "import lightgbm as lgb\n",
    "from sklearn.metrics import roc_auc_score # for binary classification if x > 0.5 -> 1 else -> 0\n",
    "#gbm = lgb.LGBMClassifier()\n",
    "gbm = lgb.LGBMClassifier()\n",
    "# gbm = lgb.LGBMClassifier(max_depth=12) # HPO, check on the web https://lightgbm.readthedocs.io/ for other parameters\n",
    "\n",
    "\n",
    "starting_time = time.time( )\n",
    "\n",
    "gbm.fit(X_train, y_train.values,sample_weight=weights_train.values)\n",
    "#gbm.fit(X_train, y_train.values) #ma\n",
    "\n",
    "\n",
    "training_time = time.time( ) - starting_time\n",
    "print(\"Training time:\",training_time)\n",
    "\n",
    "y_pred_gbm = gbm.predict_proba(X_test)[:,1]\n",
    "y_pred_gbm = y_pred_gbm.ravel()\n",
    "y_pred_train_gbm = gbm.predict_proba(X_train)[:,1].ravel()\n",
    "auc_test_gbm = roc_auc_score(y_true=y_test, y_score=y_pred_gbm)\n",
    "print(\"auc test:\",auc_test_gbm)\n",
    "print (\"auc train:\",roc_auc_score(y_true=y_train.values, y_score=y_pred_train_gbm,))\n",
    "\n",
    "int_pred_test_sig_gbm = [weights_test[(y_test ==1) & (y_pred_gbm > th_cut)].sum() for th_cut in np.linspace(0,1,num=50)]\n",
    "int_pred_test_bkg_gbm = [weights_test[(y_test ==0) & (y_pred_gbm > th_cut)].sum() for th_cut in np.linspace(0,1,num=50)]\n",
    "\n",
    "vamsasimov_gbm = [amsasimov(sumsig,sumbkg) for (sumsig,sumbkg) in zip(int_pred_test_sig_gbm,int_pred_test_bkg_gbm)]\n",
    "significance_gbm = max(vamsasimov_gbm)\n",
    "Z = significance_gbm\n",
    "print(\"Z:\",Z)\n",
    "# To save model\n",
    "gbm.booster_.save_model(\"LightGBM.model\")\n",
    "\n",
    "\n"
   ]
  },
  {
   "cell_type": "code",
   "execution_count": 25,
   "metadata": {
    "colab": {
     "base_uri": "https://localhost:8080/",
     "height": 121
    },
    "colab_type": "code",
    "executionInfo": {
     "elapsed": 727,
     "status": "ok",
     "timestamp": 1590131967829,
     "user": {
      "displayName": "David Rousseau",
      "photoUrl": "",
      "userId": "13371246477126231971"
     },
     "user_tz": -120
    },
    "id": "zmJxYTUmrlIZ",
    "outputId": "3f0f7d15-d86c-4cc0-af5a-2a5eb94157ba"
   },
   "outputs": [
    {
     "name": "stdout",
     "output_type": "stream",
     "text": [
      "Best significance found are:\n",
      "LightGBM:  0.7534538457691546\n",
      "XGBoost :  0.8015178701442962\n",
      "Best auc test found are:\n",
      "LightGBM:  0.8430003035698995\n",
      "XGBoost:  0.8629082861653745\n"
     ]
    }
   ],
   "source": [
    "print('Best significance found are:')\n",
    "print('LightGBM: ', significance_gbm)\n",
    "print('XGBoost : ', significance_xgb)\n",
    "print('Best auc test found are:')\n",
    "print('LightGBM: ', roc_auc_score(y_true=y_test.values, y_score=y_pred_gbm,))\n",
    "print('XGBoost: ', roc_auc_score(y_true=y_test.values, y_score=y_pred_xgb,)) "
   ]
  },
  {
   "cell_type": "markdown",
   "metadata": {
    "colab_type": "text",
    "id": "T-LB9cbErlIb"
   },
   "source": [
    "## Some nice plots "
   ]
  },
  {
   "cell_type": "markdown",
   "metadata": {
    "colab_type": "text",
    "id": "_nxVz32hKwqz"
   },
   "source": [
    "## load score plotting function"
   ]
  },
  {
   "cell_type": "code",
   "execution_count": 26,
   "metadata": {
    "colab": {},
    "colab_type": "code",
    "id": "Ay8QTiKPKwqz"
   },
   "outputs": [],
   "source": [
    "# some utilities\n",
    "from math import sqrt\n",
    "from math import log\n",
    "\n",
    "# Plot score for signal and background, comparing training and testing\n",
    "def compare_train_test(y_pred_train, y_train, y_pred, y_test, high_low=(0,1), bins=30, xlabel=\"\", ylabel=\"Arbitrary units\", title=\"\", weights_train=np.array([]), weights_test=np.array([])):\n",
    "    if weights_train.size != 0:\n",
    "        weights_train_signal = weights_train[y_train == 1]\n",
    "        weights_train_background = weights_train[y_train == 0]\n",
    "    else:\n",
    "        weights_train_signal = None\n",
    "        weights_train_background = None\n",
    "    plt.hist(y_pred_train[y_train == 1],\n",
    "                 color='r', alpha=0.5, range=high_low, bins=bins,\n",
    "                 histtype='stepfilled', density=True,\n",
    "                 label='S (train)', weights=weights_train_signal) # alpha is transparancy\n",
    "    plt.hist(y_pred_train[y_train == 0],\n",
    "                 color='b', alpha=0.5, range=high_low, bins=bins,\n",
    "                 histtype='stepfilled', density=True,\n",
    "                 label='B (train)', weights=weights_train_background)\n",
    "\n",
    "    if weights_test.size != 0:\n",
    "        weights_test_signal = weights_test[y_test == 1]\n",
    "        weights_test_background = weights_test[y_test == 0]\n",
    "    else:\n",
    "        weights_test_signal = None\n",
    "        weights_test_background = None\n",
    "    hist, bins = np.histogram(y_pred[y_test == 1],\n",
    "                                  bins=bins, range=high_low, density=True, weights=weights_test_signal)\n",
    "    scale = len(y_pred[y_test == 1]) / sum(hist)\n",
    "    err = np.sqrt(hist * scale) / scale\n",
    "\n",
    "    #width = (bins[1] - bins[0])\n",
    "    center = (bins[:-1] + bins[1:]) / 2\n",
    "    plt.errorbar(center, hist, yerr=err, fmt='o', c='r', label='S (test)')\n",
    "\n",
    "    hist, bins = np.histogram(y_pred[y_test == 0],\n",
    "                                  bins=bins, range=high_low, density=True, weights=weights_test_background)\n",
    "    scale = len(y_pred[y_test == 0]) / sum(hist)\n",
    "    err = np.sqrt(hist * scale) / scale\n",
    "\n",
    "    #width = (bins[1] - bins[0])\n",
    "    center = (bins[:-1] + bins[1:]) / 2\n",
    "    plt.errorbar(center, hist, yerr=err, fmt='o', c='b', label='B (test)')\n",
    "    plt.title(title)\n",
    "    plt.xlabel(xlabel)\n",
    "    plt.ylabel(ylabel)\n",
    "    plt.legend(loc='best')\n",
    "\n",
    "\n"
   ]
  },
  {
   "cell_type": "code",
   "execution_count": 27,
   "metadata": {
    "colab": {
     "base_uri": "https://localhost:8080/",
     "height": 573
    },
    "colab_type": "code",
    "executionInfo": {
     "elapsed": 1314,
     "status": "ok",
     "timestamp": 1590131974115,
     "user": {
      "displayName": "David Rousseau",
      "photoUrl": "",
      "userId": "13371246477126231971"
     },
     "user_tz": -120
    },
    "id": "kEQ342s-rlIe",
    "outputId": "286cfcc6-f4e0-40f5-9a07-b4f91db18ff6"
   },
   "outputs": [
    {
     "data": {
      "image/png": "[encoded data removed]",
      "text/plain": [
       "<Figure size 432x288 with 1 Axes>"
      ]
     },
     "metadata": {
      "needs_background": "light"
     },
     "output_type": "display_data"
    },
    {
     "data": {
      "image/png": "[encoded data removed]",
      "text/plain": [
       "<Figure size 432x288 with 1 Axes>"
      ]
     },
     "metadata": {
      "needs_background": "light"
     },
     "output_type": "display_data"
    }
   ],
   "source": [
    "\n",
    "compare_train_test(y_pred_train_xgb, y_train, y_pred_xgb, y_test, xlabel=\"XGboost score\", title=\"XGboost\", weights_train=weights_train.values, weights_test=weights_test.values)\n",
    "plt.savefig(\"Score_BDT_XGBoost_Hist.pdf\")\n",
    "plt.show()\n",
    "compare_train_test(y_pred_train_gbm, y_train, y_pred_gbm, y_test, xlabel=\"LightGBM score\", title=\"LightGBM\", weights_train=weights_train.values, weights_test=weights_test.values)\n",
    "plt.savefig(\"Score_BDT_LightGBM.pdf\")\n",
    "plt.show()"
   ]
  },
  {
   "cell_type": "code",
   "execution_count": 28,
   "metadata": {
    "colab": {
     "base_uri": "https://localhost:8080/",
     "height": 295
    },
    "colab_type": "code",
    "executionInfo": {
     "elapsed": 883,
     "status": "ok",
     "timestamp": 1590131979941,
     "user": {
      "displayName": "David Rousseau",
      "photoUrl": "",
      "userId": "13371246477126231971"
     },
     "user_tz": -120
    },
    "id": "tUKIWu2orlIg",
    "outputId": "426e9f5f-2ff4-477f-d977-94be70d6c445"
   },
   "outputs": [
    {
     "data": {
      "image/png": "[encoded data removed]",
      "text/plain": [
       "<Figure size 432x288 with 1 Axes>"
      ]
     },
     "metadata": {
      "needs_background": "light"
     },
     "output_type": "display_data"
    }
   ],
   "source": [
    "from sklearn.metrics import roc_curve\n",
    "lw = 2\n",
    "\n",
    "fpr_gbm,tpr_gbm,_ = roc_curve(y_true=y_test, y_score=y_pred_gbm,sample_weight=weights_test.values)\n",
    "fpr_xgb,tpr_xgb,_ = roc_curve(y_true=y_test, y_score=y_pred_xgb,sample_weight=weights_test.values)\n",
    "plt.plot(fpr_gbm, tpr_gbm, color='darkorange',lw=lw, label='LightGBM (AUC  = {})'.format(np.round(auc_test_gbm,decimals=2)))\n",
    "plt.plot(fpr_xgb, tpr_xgb, color='darkgreen',lw=lw, label='XGBoost (AUC  = {})'.format(np.round(auc_test_xgb,decimals=2)))\n",
    "plt.plot([0, 1], [0, 1], color='navy', lw=lw, linestyle='--')\n",
    "plt.xlim([0.0, 1.0])\n",
    "plt.ylim([0.0, 1.05])\n",
    "plt.xlabel('False Positive Rate')\n",
    "plt.ylabel('True Positive Rate')\n",
    "plt.title('Receiver Operating Characteristic')\n",
    "plt.legend(loc=\"lower right\")\n",
    "#import os\n",
    "#new_dir = \"Plots/Comparing\" \n",
    "#if not os.path.isdir(new_dir):\n",
    "#    os.mkdir(new_dir)\n",
    "plt.savefig(\"ROC_comparing.pdf\")\n",
    "plt.show() # blue line = random classification -> maximize true positive rate while miniize false positive rate"
   ]
  },
  {
   "cell_type": "code",
   "execution_count": 29,
   "metadata": {
    "colab": {
     "base_uri": "https://localhost:8080/",
     "height": 295
    },
    "colab_type": "code",
    "executionInfo": {
     "elapsed": 835,
     "status": "ok",
     "timestamp": 1590131983880,
     "user": {
      "displayName": "David Rousseau",
      "photoUrl": "",
      "userId": "13371246477126231971"
     },
     "user_tz": -120
    },
    "id": "CGF3k0KJrlIi",
    "outputId": "daf7acec-b3af-4941-d924-3b3d1be4dd65"
   },
   "outputs": [
    {
     "data": {
      "image/png": "[encoded data removed]",
      "text/plain": [
       "<Figure size 432x288 with 1 Axes>"
      ]
     },
     "metadata": {
      "needs_background": "light"
     },
     "output_type": "display_data"
    }
   ],
   "source": [
    "plt.plot(np.linspace(0,1,num=50),vamsasimov_gbm, label='LightGBM (Z = {})'.format(np.round(significance_gbm,decimals=2)))\n",
    "plt.plot(np.linspace(0,1,num=50),vamsasimov_xgb, label='XGBoost (Z = {})'.format(np.round(significance_xgb,decimals=2)))\n",
    "\n",
    "plt.title(\"BDT Significance\")\n",
    "plt.xlabel(\"Threshold\")\n",
    "plt.ylabel(\"Significance\")\n",
    "plt.legend()\n",
    "plt.savefig(\"Significance_comparing.pdf\")\n",
    "plt.show()"
   ]
  },
  {
   "cell_type": "markdown",
   "metadata": {},
   "source": [
    "# Feature importance\n",
    "Feature importance allows to display the importance of each feature without rerunnning the training. It is obtained from internal algorithm quantities, like number of time a feature is used to definea leaf. Magnitude is arbitrary. It can be used as a not very reliable indication of which feature is the most discriminant."
   ]
  },
  {
   "cell_type": "code",
   "execution_count": 30,
   "metadata": {
    "colab": {
     "base_uri": "https://localhost:8080/",
     "height": 619
    },
    "colab_type": "code",
    "executionInfo": {
     "elapsed": 855,
     "status": "ok",
     "timestamp": 1590131986197,
     "user": {
      "displayName": "David Rousseau",
      "photoUrl": "",
      "userId": "13371246477126231971"
     },
     "user_tz": -120
    },
    "id": "QN2h9y5JrlIm",
    "outputId": "5d160a28-f3a1-41d8-cdcc-daa1e5b2b7a7"
   },
   "outputs": [
    {
     "data": {
      "image/png": "[encoded data removed]",
      "text/plain": [
       "<Figure size 432x288 with 1 Axes>"
      ]
     },
     "metadata": {
      "needs_background": "light"
     },
     "output_type": "display_data"
    },
    {
     "data": {
      "image/png": "[encoded data removed]",
      "text/plain": [
       "<Figure size 432x288 with 1 Axes>"
      ]
     },
     "metadata": {
      "needs_background": "light"
     },
     "output_type": "display_data"
    }
   ],
   "source": [
    "plt.bar(data.columns.values, xgb.feature_importances_)\n",
    "plt.xticks(rotation=90)\n",
    "plt.title(\"Feature importances XGBoost Hist\")\n",
    "#plt.savefig(new_dir + \"/VarImp_BDT_XGBoost_Hist.pdf\",bbox_inches='tight')\n",
    "plt.show()\n",
    "plt.bar(data.columns.values, gbm.feature_importances_)\n",
    "plt.xticks(rotation=90)\n",
    "plt.title(\"Feature importances LightGBM\")\n",
    "#plt.savefig(new_dir + \"/VarImp_BDT_LightGBM.pdf\",bbox_inches='tight')\n",
    "plt.show()\n"
   ]
  },
  {
   "cell_type": "markdown",
   "metadata": {
    "colab_type": "text",
    "id": "i7WxH3bDrlIp"
   },
   "source": [
    "# Permutation importance"
   ]
  },
  {
   "cell_type": "markdown",
   "metadata": {},
   "source": [
    "A better way to show the importance of each feature is Permutation Importance, where each feature in turn is replaced by an instance of an other event (effectively switching it off by randomising).\n",
    "One possible implementation:\n",
    "https://github.com/aghoshpub/permutationImportancePhysics \n",
    "In particular it allows to : \n",
    "   * display directly the loss in whatever criteria (ROC auc, asimov significance) when the feature is switched off\n",
    "   * display the feature importance for a specific subset (for example the most signal like)\n",
    "   * it can even display which feature has the larges impact on systematics\n",
    "\n",
    "\n",
    "However, report can be misleading in case of highly correlated variables. \n",
    "   \n"
   ]
  },
  {
   "cell_type": "code",
   "execution_count": 31,
   "metadata": {},
   "outputs": [],
   "source": [
    "if False:\n",
    "    !pip install PermutationImportancePhysics\n",
    "    from permutationimportancephysics.PermutationImportance import PermulationImportance # note the delibrate typo PermuLation\n",
    "    PI_xgb = PermulationImportance(model=xgb, X=X_test,y=y_test,weights=weights_test,\\\n",
    "                           n_iterations=1,usePredict_poba=True, scoreFunction=\"amsasimov\", colNames=list(data.columns.values))\n",
    "    #PI_xgb.dislayResults()\n",
    "    plott_xgb = PI_xgb.plotBars()\n",
    "    plott_xgb.show()\n",
    "    PI_gbm = PermulationImportance(model=gbm, X=X_test,y=y_test,weights=weights_test,\\\n",
    "                           n_iterations=1,usePredict_poba=True, scoreFunction=\"amsasimov\", colNames=list(data.columns.values))\n",
    "    #PI_gbm.dislayResults()\n",
    "    plott_gbm = PI_gbm.plotBars()\n",
    "    plott_gbm.show()\n"
   ]
  }
 ],
 "metadata": {
  "colab": {
   "collapsed_sections": [],
   "name": "HEPML_HandsOn_BDT.ipynb",
   "provenance": []
  },
  "kernelspec": {
   "display_name": "Python 3",
   "language": "python",
   "name": "python3"
  },
  "language_info": {
   "codemirror_mode": {
    "name": "ipython",
    "version": 3
   },
   "file_extension": ".py",
   "mimetype": "text/x-python",
   "name": "python",
   "nbconvert_exporter": "python",
   "pygments_lexer": "ipython3",
   "version": "3.8.5"
  }
 },
 "nbformat": 4,
 "nbformat_minor": 1
}
